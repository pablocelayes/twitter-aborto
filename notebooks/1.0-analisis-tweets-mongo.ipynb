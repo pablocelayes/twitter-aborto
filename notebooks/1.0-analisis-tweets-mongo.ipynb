{
 "cells": [
  {
   "cell_type": "code",
   "execution_count": 1,
   "metadata": {
    "colab": {
     "autoexec": {
      "startup": false,
      "wait_interval": 0
     }
    },
    "colab_type": "code",
    "collapsed": true,
    "id": "xILzsBEsKl-R"
   },
   "outputs": [],
   "source": [
    "#We will start first by uploading json and pandas using the commands below:\n",
    "import json\n",
    "import pandas as pd"
   ]
  },
  {
   "cell_type": "code",
   "execution_count": 2,
   "metadata": {
    "colab": {
     "autoexec": {
      "startup": false,
      "wait_interval": 0
     }
    },
    "colab_type": "code",
    "collapsed": true,
    "id": "DQtQl17lpt0T"
   },
   "outputs": [],
   "source": [
    "from pymongo import MongoClient\n",
    "\n",
    "MONGO_HOST= 'mongodb://localhost/twitterdata'\n",
    "client = MongoClient(MONGO_HOST)\n",
    "db = client.twitterdata\n",
    "coll = db.abortolegal\n",
    "\n",
    "def recortar_tweet(t):\n",
    "    COLUMNAS = ['created_at', 'favorite_count', 'retweet_count', 'full_text', 'posicion', 'favorited', 'retweeted']\n",
    "    tweet_recortado = {columna: t[columna] for columna in COLUMNAS}\n",
    "    tweet_recortado['user_name'] = t['user']['name']\n",
    "    return tweet_recortado\n",
    "\n",
    "recortados = [recortar_tweet(t) for t in coll.find()]\n",
    "tweets = pd.DataFrame(recortados)\n",
    "tweets['created_at'] = pd.to_datetime(tweets['created_at'])"
   ]
  },
  {
   "cell_type": "code",
   "execution_count": 3,
   "metadata": {
    "colab": {
     "autoexec": {
      "startup": false,
      "wait_interval": 0
     }
    },
    "colab_type": "code",
    "collapsed": false,
    "id": "EmK7TrrAKl-o",
    "outputId": "7fc40844-a204-4231-9094-bb662899d724"
   },
   "outputs": [
    {
     "data": {
      "text/plain": [
       "27117"
      ]
     },
     "execution_count": 3,
     "metadata": {},
     "output_type": "execute_result"
    }
   ],
   "source": [
    "tweets_no = tweets[tweets.posicion == 'no']\n",
    "len(tweets_no)"
   ]
  },
  {
   "cell_type": "code",
   "execution_count": 4,
   "metadata": {
    "colab": {
     "autoexec": {
      "startup": false,
      "wait_interval": 0
     }
    },
    "colab_type": "code",
    "collapsed": false,
    "id": "zi18md5ipt0b",
    "outputId": "8af61964-7b92-4da7-8692-7b0d84ccf8b3"
   },
   "outputs": [
    {
     "data": {
      "text/plain": [
       "245826"
      ]
     },
     "execution_count": 4,
     "metadata": {},
     "output_type": "execute_result"
    }
   ],
   "source": [
    "tweets_si = tweets[tweets.posicion == 'si']\n",
    "len(tweets_si)"
   ]
  },
  {
   "cell_type": "code",
   "execution_count": 5,
   "metadata": {
    "collapsed": false
   },
   "outputs": [
    {
     "data": {
      "text/plain": [
       "created_at  posicion\n",
       "2018-06-09  no            5135\n",
       "            si           29411\n",
       "2018-06-10  no            5529\n",
       "            si           49308\n",
       "2018-06-11  no            8414\n",
       "            si           59162\n",
       "2018-06-12  no            8039\n",
       "            si          107945\n",
       "Name: created_at, dtype: int64"
      ]
     },
     "execution_count": 5,
     "metadata": {},
     "output_type": "execute_result"
    }
   ],
   "source": [
    "tweets.groupby([tweets.created_at.dt.date, tweets.posicion])['created_at'].count()"
   ]
  },
  {
   "cell_type": "code",
   "execution_count": 6,
   "metadata": {
    "colab": {
     "autoexec": {
      "startup": false,
      "wait_interval": 0
     }
    },
    "colab_type": "code",
    "collapsed": false,
    "id": "7KWYKSDXpt0g",
    "outputId": "d9c4b357-15f4-49e3-c5a7-12783f0dac1e"
   },
   "outputs": [
    {
     "data": {
      "text/plain": [
       "Timestamp('2018-06-09 00:00:01')"
      ]
     },
     "execution_count": 6,
     "metadata": {},
     "output_type": "execute_result"
    }
   ],
   "source": [
    "tweets_no.created_at.min()"
   ]
  },
  {
   "cell_type": "markdown",
   "metadata": {
    "colab_type": "text",
    "id": "nhyr_pFOpt0j"
   },
   "source": [
    "# Usuari@s más activos"
   ]
  },
  {
   "cell_type": "code",
   "execution_count": 7,
   "metadata": {
    "colab": {
     "autoexec": {
      "startup": false,
      "wait_interval": 0
     }
    },
    "colab_type": "code",
    "collapsed": false,
    "id": "CW7OwJ8Hpt0k",
    "outputId": "ad700cfa-ac74-47bf-f7f7-1e87d4f07ee3"
   },
   "outputs": [
    {
     "data": {
      "text/plain": [
       "Néstor                         75\n",
       "Franco González Paz            69\n",
       "Miry                           61\n",
       "Naty Ciccone                   55\n",
       "La Pura Verdad                 54\n",
       "Veronica Vocos 🇦🇷 💙            42\n",
       "Tiabe                          40\n",
       "liliana                        38\n",
       "AZUESPERANZA💙                  38\n",
       "Javier H Dominguez             37\n",
       "No.al.aborto                   36\n",
       "kathleen m donnelly            36\n",
       "Analia V                       36\n",
       "#NoAlAborto #SiALaVida         36\n",
       "Paola Elizabeth                36\n",
       "Julucata                       35\n",
       "Gerardo Williams               35\n",
       "LaChismozaTV 🇦🇷                33\n",
       "Isabel                         32\n",
       "Lore                           32\n",
       "Silvia Bordo                   32\n",
       "Opiniononline                  31\n",
       "Elsaco                         30\n",
       "Male del Mar                   30\n",
       "roxana nora sanchez            30\n",
       "Ezequiel Cortelletti           30\n",
       "PadreMiguelTuc                 30\n",
       "Liliana                        29\n",
       "Reina de Corazones ن           29\n",
       "Maio                           29\n",
       "matt                          28\n",
       "Aleca                          28\n",
       "javier leites                  28\n",
       "Daniela Yanello 💙              28\n",
       "Juana                          27\n",
       "MAKE ABORTION ILLEGAL AGAIN    27\n",
       "Maria Rives                    27\n",
       "Gabriel José Limodio           26\n",
       "Silvia Lezcano                 26\n",
       "RCCABRERA                      26\n",
       "Alberto Cadornari              26\n",
       "Agus Cortes🚦                   26\n",
       "Margarita Cantarutti           26\n",
       "El Exterminador de kukas       25\n",
       "Mariana                        25\n",
       "Agus                           25\n",
       "Intradev                       24\n",
       "santiago boniscontro           24\n",
       "susana                         24\n",
       "Ale                            24\n",
       "Name: user_name, dtype: int64"
      ]
     },
     "execution_count": 7,
     "metadata": {},
     "output_type": "execute_result"
    }
   ],
   "source": [
    "tweets_no.user_name.value_counts()[:50]"
   ]
  },
  {
   "cell_type": "code",
   "execution_count": 8,
   "metadata": {
    "colab": {
     "autoexec": {
      "startup": false,
      "wait_interval": 0
     }
    },
    "colab_type": "code",
    "collapsed": false,
    "id": "aD-UaiJKpt0o",
    "outputId": "1874dee0-8b06-484b-b11a-11f4a6ca3929"
   },
   "outputs": [
    {
     "data": {
      "text/plain": [
       "💚                         470\n",
       "Agustina                  375\n",
       "Gabriela Martinez         360\n",
       "Enrique Stola             335\n",
       "Flor                      333\n",
       "Camila                    333\n",
       "el paraiso                305\n",
       "Lucia Trebucq             303\n",
       "Pablo                     265\n",
       "Julieta                   262\n",
       "Activa el Congreso        245\n",
       ".                         236\n",
       "Marcela Durrieu           231\n",
       "Ro💚                       226\n",
       "💚 María Laura P 💚         226\n",
       "Lu                        210\n",
       "graciela roldan           208\n",
       "Sofía                     207\n",
       "Agus                      202\n",
       "Tomás                     201\n",
       "Sol                       191\n",
       "Florencia                 186\n",
       "Ro                        184\n",
       "cecilia szperling         181\n",
       "Patricia Murray           180\n",
       "Victoria                  178\n",
       "Lucía                     177\n",
       "Milagros                  177\n",
       "Andrea                    175\n",
       "Maru                      173\n",
       "Celeste                   166\n",
       "Mariana                   164\n",
       "Valentina                 161\n",
       "Paula                     155\n",
       "Xiomara B.                153\n",
       "Cami                      152\n",
       "#AbortoLegalYa            150\n",
       "Actrices Argentinas       149\n",
       "Venus.                    148\n",
       "amariaizquierdo           147\n",
       "Mujeres Renovación 💚      144\n",
       "Gabi                      138\n",
       "Pamela Martin Garcia 💚    137\n",
       "Micaela                   136\n",
       "Ale                       136\n",
       "Sofi                      134\n",
       "Ernesto Díaz              133\n",
       "Mariel Vannini            133\n",
       "jessica Flax              132\n",
       "laura fernandez           131\n",
       "Name: user_name, dtype: int64"
      ]
     },
     "execution_count": 8,
     "metadata": {},
     "output_type": "execute_result"
    }
   ],
   "source": [
    "tweets_si.user_name.value_counts()[:50]"
   ]
  },
  {
   "cell_type": "markdown",
   "metadata": {
    "colab_type": "text",
    "id": "Ye2nz6o5pt0r"
   },
   "source": [
    "## Más retuiteados"
   ]
  },
  {
   "cell_type": "code",
   "execution_count": 9,
   "metadata": {
    "colab": {
     "autoexec": {
      "startup": false,
      "wait_interval": 0
     }
    },
    "colab_type": "code",
    "collapsed": true,
    "id": "dqgnygicpt0s"
   },
   "outputs": [],
   "source": [
    "df = tweets[['full_text', 'retweet_count', 'favorite_count', 'posicion']]\n",
    "# Removemos menciones en RTs\n",
    "import re\n",
    "df.full_text = df.full_text.apply(lambda s: re.sub(r\"^RT @\\w+: \", \"\", s))"
   ]
  },
  {
   "cell_type": "code",
   "execution_count": 10,
   "metadata": {
    "colab": {
     "autoexec": {
      "startup": false,
      "wait_interval": 0
     }
    },
    "colab_type": "code",
    "collapsed": false,
    "id": "RWffUNY-pt0w",
    "outputId": "7183a446-2968-45d7-a777-db76dbcd89ad"
   },
   "outputs": [
    {
     "data": {
      "text/plain": [
       "71662"
      ]
     },
     "execution_count": 10,
     "metadata": {},
     "output_type": "execute_result"
    }
   ],
   "source": [
    "df.drop_duplicates(inplace=True)\n",
    "len(df)"
   ]
  },
  {
   "cell_type": "code",
   "execution_count": 11,
   "metadata": {
    "colab": {
     "autoexec": {
      "startup": false,
      "wait_interval": 0
     }
    },
    "colab_type": "code",
    "collapsed": true,
    "id": "vl2GLHTUpt0z"
   },
   "outputs": [],
   "source": [
    "# esto es para que pandas muestre el texto completo\n",
    "pd.set_option('display.max_colwidth', -1)"
   ]
  },
  {
   "cell_type": "code",
   "execution_count": 12,
   "metadata": {
    "colab": {
     "autoexec": {
      "startup": false,
      "wait_interval": 0
     }
    },
    "colab_type": "code",
    "collapsed": false,
    "id": "Inn6yi3fpt02",
    "outputId": "f3ab286b-2b74-4ebb-9a6e-fa2b25774955"
   },
   "outputs": [
    {
     "data": {
      "text/html": [
       "<div>\n",
       "<table border=\"1\" class=\"dataframe\">\n",
       "  <thead>\n",
       "    <tr style=\"text-align: right;\">\n",
       "      <th></th>\n",
       "      <th>full_text</th>\n",
       "      <th>retweet_count</th>\n",
       "      <th>favorite_count</th>\n",
       "      <th>posicion</th>\n",
       "    </tr>\n",
       "  </thead>\n",
       "  <tbody>\n",
       "    <tr>\n",
       "      <th>270900</th>\n",
       "      <td>#AbortoLegalYa - sigan este hilo.\\nNO SOY NEUTRAL.\\nMi nombre es Cecilia Ousset. Soy católica, médica, especialista en tocogi…</td>\n",
       "      <td>14617</td>\n",
       "      <td>0</td>\n",
       "      <td>si</td>\n",
       "    </tr>\n",
       "    <tr>\n",
       "      <th>149525</th>\n",
       "      <td>#AbortoLegalYa - sigan este hilo.\\nNO SOY NEUTRAL.\\nMi nombre es Cecilia Ousset. Soy católica, médica, especialista en tocogi…</td>\n",
       "      <td>14616</td>\n",
       "      <td>0</td>\n",
       "      <td>si</td>\n",
       "    </tr>\n",
       "    <tr>\n",
       "      <th>155260</th>\n",
       "      <td>#AbortoLegalYa - sigan este hilo.\\nNO SOY NEUTRAL.\\nMi nombre es Cecilia Ousset. Soy católica, médica, especialista en tocogi…</td>\n",
       "      <td>14615</td>\n",
       "      <td>0</td>\n",
       "      <td>si</td>\n",
       "    </tr>\n",
       "    <tr>\n",
       "      <th>192145</th>\n",
       "      <td>#AbortoLegalYa - sigan este hilo.\\nNO SOY NEUTRAL.\\nMi nombre es Cecilia Ousset. Soy católica, médica, especialista en tocogi…</td>\n",
       "      <td>14614</td>\n",
       "      <td>0</td>\n",
       "      <td>si</td>\n",
       "    </tr>\n",
       "    <tr>\n",
       "      <th>120405</th>\n",
       "      <td>#AbortoLegalYa - sigan este hilo.\\nNO SOY NEUTRAL.\\nMi nombre es Cecilia Ousset. Soy católica, médica, especialista en tocogi…</td>\n",
       "      <td>14571</td>\n",
       "      <td>0</td>\n",
       "      <td>si</td>\n",
       "    </tr>\n",
       "    <tr>\n",
       "      <th>116915</th>\n",
       "      <td>#AbortoLegalYa - sigan este hilo.\\nNO SOY NEUTRAL.\\nMi nombre es Cecilia Ousset. Soy católica, médica, especialista en tocogi…</td>\n",
       "      <td>14570</td>\n",
       "      <td>0</td>\n",
       "      <td>si</td>\n",
       "    </tr>\n",
       "    <tr>\n",
       "      <th>113440</th>\n",
       "      <td>#AbortoLegalYa - sigan este hilo.\\nNO SOY NEUTRAL.\\nMi nombre es Cecilia Ousset. Soy católica, médica, especialista en tocogi…</td>\n",
       "      <td>14569</td>\n",
       "      <td>0</td>\n",
       "      <td>si</td>\n",
       "    </tr>\n",
       "    <tr>\n",
       "      <th>104276</th>\n",
       "      <td>#AbortoLegalYa - sigan este hilo.\\nNO SOY NEUTRAL.\\nMi nombre es Cecilia Ousset. Soy católica, médica, especialista en tocogi…</td>\n",
       "      <td>14568</td>\n",
       "      <td>0</td>\n",
       "      <td>si</td>\n",
       "    </tr>\n",
       "    <tr>\n",
       "      <th>87062</th>\n",
       "      <td>#AbortoLegalYa - sigan este hilo.\\nNO SOY NEUTRAL.\\nMi nombre es Cecilia Ousset. Soy católica, médica, especialista en tocogi…</td>\n",
       "      <td>14567</td>\n",
       "      <td>0</td>\n",
       "      <td>si</td>\n",
       "    </tr>\n",
       "    <tr>\n",
       "      <th>69901</th>\n",
       "      <td>#AbortoLegalYa - sigan este hilo.\\nNO SOY NEUTRAL.\\nMi nombre es Cecilia Ousset. Soy católica, médica, especialista en tocogi…</td>\n",
       "      <td>14491</td>\n",
       "      <td>0</td>\n",
       "      <td>si</td>\n",
       "    </tr>\n",
       "    <tr>\n",
       "      <th>67557</th>\n",
       "      <td>#AbortoLegalYa - sigan este hilo.\\nNO SOY NEUTRAL.\\nMi nombre es Cecilia Ousset. Soy católica, médica, especialista en tocogi…</td>\n",
       "      <td>14490</td>\n",
       "      <td>0</td>\n",
       "      <td>si</td>\n",
       "    </tr>\n",
       "    <tr>\n",
       "      <th>54191</th>\n",
       "      <td>#AbortoLegalYa - sigan este hilo.\\nNO SOY NEUTRAL.\\nMi nombre es Cecilia Ousset. Soy católica, médica, especialista en tocogi…</td>\n",
       "      <td>14489</td>\n",
       "      <td>0</td>\n",
       "      <td>si</td>\n",
       "    </tr>\n",
       "    <tr>\n",
       "      <th>48538</th>\n",
       "      <td>#AbortoLegalYa - sigan este hilo.\\nNO SOY NEUTRAL.\\nMi nombre es Cecilia Ousset. Soy católica, médica, especialista en tocogi…</td>\n",
       "      <td>14488</td>\n",
       "      <td>0</td>\n",
       "      <td>si</td>\n",
       "    </tr>\n",
       "    <tr>\n",
       "      <th>34707</th>\n",
       "      <td>#AbortoLegalYa - sigan este hilo.\\nNO SOY NEUTRAL.\\nMi nombre es Cecilia Ousset. Soy católica, médica, especialista en tocogi…</td>\n",
       "      <td>14487</td>\n",
       "      <td>0</td>\n",
       "      <td>si</td>\n",
       "    </tr>\n",
       "    <tr>\n",
       "      <th>18749</th>\n",
       "      <td>#AbortoLegalYa - sigan este hilo.\\nNO SOY NEUTRAL.\\nMi nombre es Cecilia Ousset. Soy católica, médica, especialista en tocogi…</td>\n",
       "      <td>14372</td>\n",
       "      <td>0</td>\n",
       "      <td>si</td>\n",
       "    </tr>\n",
       "    <tr>\n",
       "      <th>14241</th>\n",
       "      <td>#AbortoLegalYa - sigan este hilo.\\nNO SOY NEUTRAL.\\nMi nombre es Cecilia Ousset. Soy católica, médica, especialista en tocogi…</td>\n",
       "      <td>14371</td>\n",
       "      <td>0</td>\n",
       "      <td>si</td>\n",
       "    </tr>\n",
       "    <tr>\n",
       "      <th>4433</th>\n",
       "      <td>#AbortoLegalYa - sigan este hilo.\\nNO SOY NEUTRAL.\\nMi nombre es Cecilia Ousset. Soy católica, médica, especialista en tocogi…</td>\n",
       "      <td>14370</td>\n",
       "      <td>0</td>\n",
       "      <td>si</td>\n",
       "    </tr>\n",
       "    <tr>\n",
       "      <th>592</th>\n",
       "      <td>#AbortoLegalYa - sigan este hilo.\\nNO SOY NEUTRAL.\\nMi nombre es Cecilia Ousset. Soy católica, médica, especialista en tocogi…</td>\n",
       "      <td>14369</td>\n",
       "      <td>0</td>\n",
       "      <td>si</td>\n",
       "    </tr>\n",
       "    <tr>\n",
       "      <th>266505</th>\n",
       "      <td>Argentina tiene que avanzar! El aborto existió siempre!\\nBasta de muertes en la clandestinidad!\\nUn país con mejor educación s…</td>\n",
       "      <td>14075</td>\n",
       "      <td>0</td>\n",
       "      <td>si</td>\n",
       "    </tr>\n",
       "    <tr>\n",
       "      <th>266410</th>\n",
       "      <td>Argentina tiene que avanzar! El aborto existió siempre!\\nBasta de muertes en la clandestinidad!\\nUn país con mejor educación s…</td>\n",
       "      <td>14074</td>\n",
       "      <td>0</td>\n",
       "      <td>si</td>\n",
       "    </tr>\n",
       "  </tbody>\n",
       "</table>\n",
       "</div>"
      ],
      "text/plain": [
       "                                                                                                                              full_text  \\\n",
       "270900  #AbortoLegalYa - sigan este hilo.\\nNO SOY NEUTRAL.\\nMi nombre es Cecilia Ousset. Soy católica, médica, especialista en tocogi…    \n",
       "149525  #AbortoLegalYa - sigan este hilo.\\nNO SOY NEUTRAL.\\nMi nombre es Cecilia Ousset. Soy católica, médica, especialista en tocogi…    \n",
       "155260  #AbortoLegalYa - sigan este hilo.\\nNO SOY NEUTRAL.\\nMi nombre es Cecilia Ousset. Soy católica, médica, especialista en tocogi…    \n",
       "192145  #AbortoLegalYa - sigan este hilo.\\nNO SOY NEUTRAL.\\nMi nombre es Cecilia Ousset. Soy católica, médica, especialista en tocogi…    \n",
       "120405  #AbortoLegalYa - sigan este hilo.\\nNO SOY NEUTRAL.\\nMi nombre es Cecilia Ousset. Soy católica, médica, especialista en tocogi…    \n",
       "116915  #AbortoLegalYa - sigan este hilo.\\nNO SOY NEUTRAL.\\nMi nombre es Cecilia Ousset. Soy católica, médica, especialista en tocogi…    \n",
       "113440  #AbortoLegalYa - sigan este hilo.\\nNO SOY NEUTRAL.\\nMi nombre es Cecilia Ousset. Soy católica, médica, especialista en tocogi…    \n",
       "104276  #AbortoLegalYa - sigan este hilo.\\nNO SOY NEUTRAL.\\nMi nombre es Cecilia Ousset. Soy católica, médica, especialista en tocogi…    \n",
       "87062   #AbortoLegalYa - sigan este hilo.\\nNO SOY NEUTRAL.\\nMi nombre es Cecilia Ousset. Soy católica, médica, especialista en tocogi…    \n",
       "69901   #AbortoLegalYa - sigan este hilo.\\nNO SOY NEUTRAL.\\nMi nombre es Cecilia Ousset. Soy católica, médica, especialista en tocogi…    \n",
       "67557   #AbortoLegalYa - sigan este hilo.\\nNO SOY NEUTRAL.\\nMi nombre es Cecilia Ousset. Soy católica, médica, especialista en tocogi…    \n",
       "54191   #AbortoLegalYa - sigan este hilo.\\nNO SOY NEUTRAL.\\nMi nombre es Cecilia Ousset. Soy católica, médica, especialista en tocogi…    \n",
       "48538   #AbortoLegalYa - sigan este hilo.\\nNO SOY NEUTRAL.\\nMi nombre es Cecilia Ousset. Soy católica, médica, especialista en tocogi…    \n",
       "34707   #AbortoLegalYa - sigan este hilo.\\nNO SOY NEUTRAL.\\nMi nombre es Cecilia Ousset. Soy católica, médica, especialista en tocogi…    \n",
       "18749   #AbortoLegalYa - sigan este hilo.\\nNO SOY NEUTRAL.\\nMi nombre es Cecilia Ousset. Soy católica, médica, especialista en tocogi…    \n",
       "14241   #AbortoLegalYa - sigan este hilo.\\nNO SOY NEUTRAL.\\nMi nombre es Cecilia Ousset. Soy católica, médica, especialista en tocogi…    \n",
       "4433    #AbortoLegalYa - sigan este hilo.\\nNO SOY NEUTRAL.\\nMi nombre es Cecilia Ousset. Soy católica, médica, especialista en tocogi…    \n",
       "592     #AbortoLegalYa - sigan este hilo.\\nNO SOY NEUTRAL.\\nMi nombre es Cecilia Ousset. Soy católica, médica, especialista en tocogi…    \n",
       "266505  Argentina tiene que avanzar! El aborto existió siempre!\\nBasta de muertes en la clandestinidad!\\nUn país con mejor educación s…   \n",
       "266410  Argentina tiene que avanzar! El aborto existió siempre!\\nBasta de muertes en la clandestinidad!\\nUn país con mejor educación s…   \n",
       "\n",
       "        retweet_count  favorite_count posicion  \n",
       "270900  14617          0               si       \n",
       "149525  14616          0               si       \n",
       "155260  14615          0               si       \n",
       "192145  14614          0               si       \n",
       "120405  14571          0               si       \n",
       "116915  14570          0               si       \n",
       "113440  14569          0               si       \n",
       "104276  14568          0               si       \n",
       "87062   14567          0               si       \n",
       "69901   14491          0               si       \n",
       "67557   14490          0               si       \n",
       "54191   14489          0               si       \n",
       "48538   14488          0               si       \n",
       "34707   14487          0               si       \n",
       "18749   14372          0               si       \n",
       "14241   14371          0               si       \n",
       "4433    14370          0               si       \n",
       "592     14369          0               si       \n",
       "266505  14075          0               si       \n",
       "266410  14074          0               si       "
      ]
     },
     "execution_count": 12,
     "metadata": {},
     "output_type": "execute_result"
    }
   ],
   "source": [
    "df.sort_values(by='retweet_count', ascending=False).head(20)"
   ]
  },
  {
   "cell_type": "markdown",
   "metadata": {
    "colab_type": "text",
    "id": "j2aLmlGwpt09"
   },
   "source": [
    "## Más favs"
   ]
  },
  {
   "cell_type": "code",
   "execution_count": 13,
   "metadata": {
    "colab": {
     "autoexec": {
      "startup": false,
      "wait_interval": 0
     }
    },
    "colab_type": "code",
    "collapsed": false,
    "id": "kYv5g4m0pt09",
    "outputId": "2e0a7b10-ba2a-43d2-b5cd-a28d375204a4"
   },
   "outputs": [
    {
     "data": {
      "text/html": [
       "<div>\n",
       "<table border=\"1\" class=\"dataframe\">\n",
       "  <thead>\n",
       "    <tr style=\"text-align: right;\">\n",
       "      <th></th>\n",
       "      <th>full_text</th>\n",
       "      <th>retweet_count</th>\n",
       "      <th>favorite_count</th>\n",
       "      <th>posicion</th>\n",
       "    </tr>\n",
       "  </thead>\n",
       "  <tbody>\n",
       "    <tr>\n",
       "      <th>97856</th>\n",
       "      <td>Argentina tiene que avanzar! El aborto existió siempre!\\nBasta de muertes en la clandestinidad!\\nUn país con mejor educación sexual, y leyes que protejan a sus ciudadanos, va a ser un mejor país!\\nNo retrocedamos! Avancemos! #AbortolegalYA #AbortoLegalOClandestino</td>\n",
       "      <td>7898</td>\n",
       "      <td>28551</td>\n",
       "      <td>si</td>\n",
       "    </tr>\n",
       "    <tr>\n",
       "      <th>222627</th>\n",
       "      <td>y ahora tomate el palo, ahora tomateló\\ny ahora tomate el palo, ahora tomateló\\nse nos mueren las pibas, legalicenló\\nal patriarcado ni cabida, mi vida\\nahora decido yo\\n\\n💚💪🏾 #AbortoLegalYa</td>\n",
       "      <td>7384</td>\n",
       "      <td>21406</td>\n",
       "      <td>si</td>\n",
       "    </tr>\n",
       "    <tr>\n",
       "      <th>267154</th>\n",
       "      <td>El aborto existió, existe y seguirá existiendo. Como sociedad no podemos mirar para otro lado. Cada muerte por aborto clandestino es evitable. Se trata de un tema de salud pública. #QueSeaLey https://t.co/UwdivOe9jL</td>\n",
       "      <td>4666</td>\n",
       "      <td>15326</td>\n",
       "      <td>si</td>\n",
       "    </tr>\n",
       "    <tr>\n",
       "      <th>181593</th>\n",
       "      <td>Luego de escuchar la opinión de cientos de especialistas y a las mujeres de la Provincia de BsAs, comprendí que el aborto es una cuestión de salud pública. Estoy a favor de la vida y no quiero más muertes por abortos clandestinos, mi voto será a favor del #abortoLegal</td>\n",
       "      <td>1964</td>\n",
       "      <td>12898</td>\n",
       "      <td>si</td>\n",
       "    </tr>\n",
       "    <tr>\n",
       "      <th>18014</th>\n",
       "      <td>Debido a las preguntas sobre mi posición frente al #AbortoLegal y después de escuchar en los debates a especialistas del derecho y la salud y, sobre todo, a las mujeres quiero hacerles saber que tienen mi voto a favor de la ley. Que no es mío sino de ustedes. @CampAbortoLegal</td>\n",
       "      <td>1223</td>\n",
       "      <td>7328</td>\n",
       "      <td>si</td>\n",
       "    </tr>\n",
       "    <tr>\n",
       "      <th>257450</th>\n",
       "      <td>Luego de mucho tiempo de reflexión y haber escuchado voces diversas, mi voto es a favor de la despenalización del aborto. \\n#Escuchar #QueElAbortoSeaLey #AbortoLegalOClandestino</td>\n",
       "      <td>1251</td>\n",
       "      <td>5467</td>\n",
       "      <td>si</td>\n",
       "    </tr>\n",
       "    <tr>\n",
       "      <th>95133</th>\n",
       "      <td>Mi hija Rocio tiene 18 años. Con sus amigas va a ir el miércoles al Congreso para pedir #AbortoLegalYa. Será su primera marcha. Ella me ayudó a  ver que el cambio llegaba. Estoy orgulloso. Estas chicas son las que van a cambiar todo. Y es lo mejor que nos puede pasar.</td>\n",
       "      <td>338</td>\n",
       "      <td>5258</td>\n",
       "      <td>si</td>\n",
       "    </tr>\n",
       "    <tr>\n",
       "      <th>190152</th>\n",
       "      <td>En los países donde el aborto es legal no ha aumentado la cantidad de abortos, pero sí se ha reducido notablemente la mortalidad materna. En Uruguay, con la legalización, descendió de 37% a 8% #AbortoLegalYa 💚 https://t.co/cczdmYofli</td>\n",
       "      <td>2731</td>\n",
       "      <td>5132</td>\n",
       "      <td>si</td>\n",
       "    </tr>\n",
       "    <tr>\n",
       "      <th>93807</th>\n",
       "      <td>Juntas @catherine_fulop @orisabatini y @actrices_arg te invitamos este MIÉRCOLES 13 desde el mediodía, en la Plaza del Congreso y en todas las Plazas del país, SEAMOS MUCHXS gritando NI UNA MENOS POR ABORTO CLANDESTINO! 💚\\n#VotenAbortoLegal \\n#13JAbortoLegal \\n#AbortoLegalYa https://t.co/jt7Jm8m2Hl</td>\n",
       "      <td>1111</td>\n",
       "      <td>4872</td>\n",
       "      <td>si</td>\n",
       "    </tr>\n",
       "    <tr>\n",
       "      <th>206507</th>\n",
       "      <td>Más allá del resultado de mañana, es nuestra tarea acordarnos muy bien quiénes votaron en contra nuestra y a contramano de la historia para no votarlos nunca más. #AbortoLegalYa</td>\n",
       "      <td>1384</td>\n",
       "      <td>4848</td>\n",
       "      <td>si</td>\n",
       "    </tr>\n",
       "    <tr>\n",
       "      <th>116927</th>\n",
       "      <td>Me pregunto a donde estuvieron siempre lxs “salvemos las dos vidas” ?? Porque la @CampAbortoLegal  lleva 13 años militando para salvar mujeres. Y uds?? Mientras tanto que hicieron?? ABSOLUTAMENTE NADA XQ NUNCA QUISIERON SALVAR A NADIE #AbortoLegalYa 💪🏼💚</td>\n",
       "      <td>1363</td>\n",
       "      <td>4452</td>\n",
       "      <td>si</td>\n",
       "    </tr>\n",
       "    <tr>\n",
       "      <th>45800</th>\n",
       "      <td>Este miércoles representantes de esta sociedad en el congreso voten entendiendo que NO es ABORTO SI o ABORTO NO. Es LEGAL o CLANDESTINO. Hagan historia.#AbortoLegalOClandestino  #abortolegalya</td>\n",
       "      <td>1630</td>\n",
       "      <td>4420</td>\n",
       "      <td>si</td>\n",
       "    </tr>\n",
       "    <tr>\n",
       "      <th>174187</th>\n",
       "      <td>Después de mucha reflexión comprendí que lo que se está discutiendo es el derecho de las mujeres y la salud pública, no cuestiones religiosas ni creencias personales. Por eso votaré a favor de la legalización de la interrupción voluntaria del embarazo. #QueSeaLey #AbortoLegal</td>\n",
       "      <td>746</td>\n",
       "      <td>4409</td>\n",
       "      <td>si</td>\n",
       "    </tr>\n",
       "    <tr>\n",
       "      <th>265981</th>\n",
       "      <td>Educación sexual para decidir, anticonceptivos para no abortar, aborto legal para no morir.  #QueSeaLey https://t.co/Ly67GCIiUt</td>\n",
       "      <td>749</td>\n",
       "      <td>3899</td>\n",
       "      <td>si</td>\n",
       "    </tr>\n",
       "    <tr>\n",
       "      <th>75143</th>\n",
       "      <td>Ahora si 🤗 #AbortoLegalYa https://t.co/D9zZ3sEsQi</td>\n",
       "      <td>1813</td>\n",
       "      <td>3898</td>\n",
       "      <td>si</td>\n",
       "    </tr>\n",
       "    <tr>\n",
       "      <th>173319</th>\n",
       "      <td>Lipovetzky: \"Les quiero anunciar que el dictamen de mayoría, que propone la legalización del aborto, ha obtenido 64 firmas y el de rechazo, 57 firmas\". Aplausos. Mañana, sesión a las 11. Para la historia. #AbortoLegal</td>\n",
       "      <td>966</td>\n",
       "      <td>3813</td>\n",
       "      <td>si</td>\n",
       "    </tr>\n",
       "    <tr>\n",
       "      <th>38626</th>\n",
       "      <td>#AbortoLegalOClandestino #AbortoLegalYa @Aruzzireal hermosaaaaa! @actrices_arg https://t.co/DR9KU0Qnat</td>\n",
       "      <td>796</td>\n",
       "      <td>3811</td>\n",
       "      <td>si</td>\n",
       "    </tr>\n",
       "    <tr>\n",
       "      <th>23109</th>\n",
       "      <td>Mama ahora si se me ve en la foto. Querían noticias?!!! Acá las tienen #AbortoLegalYa 💚 https://t.co/srWhOp4C2Q</td>\n",
       "      <td>473</td>\n",
       "      <td>3698</td>\n",
       "      <td>si</td>\n",
       "    </tr>\n",
       "    <tr>\n",
       "      <th>208403</th>\n",
       "      <td>Anoche, Facultad de Derecho, UBA\\n#AbortoLegalYa https://t.co/oBgtmlCyUY</td>\n",
       "      <td>632</td>\n",
       "      <td>3568</td>\n",
       "      <td>si</td>\n",
       "    </tr>\n",
       "    <tr>\n",
       "      <th>218337</th>\n",
       "      <td>Capaz ahí quedó más claro. Soy adoptada y estoy a favor del aborto legal, seguro y gratuito. #AbortoLegalOClandestino #AbortoLegalYa</td>\n",
       "      <td>431</td>\n",
       "      <td>3512</td>\n",
       "      <td>si</td>\n",
       "    </tr>\n",
       "  </tbody>\n",
       "</table>\n",
       "</div>"
      ],
      "text/plain": [
       "                                                                                                                                                                                                                                                                                                          full_text  \\\n",
       "97856   Argentina tiene que avanzar! El aborto existió siempre!\\nBasta de muertes en la clandestinidad!\\nUn país con mejor educación sexual, y leyes que protejan a sus ciudadanos, va a ser un mejor país!\\nNo retrocedamos! Avancemos! #AbortolegalYA #AbortoLegalOClandestino                                      \n",
       "222627  y ahora tomate el palo, ahora tomateló\\ny ahora tomate el palo, ahora tomateló\\nse nos mueren las pibas, legalicenló\\nal patriarcado ni cabida, mi vida\\nahora decido yo\\n\\n💚💪🏾 #AbortoLegalYa                                                                                                                \n",
       "267154  El aborto existió, existe y seguirá existiendo. Como sociedad no podemos mirar para otro lado. Cada muerte por aborto clandestino es evitable. Se trata de un tema de salud pública. #QueSeaLey https://t.co/UwdivOe9jL                                                                                       \n",
       "181593  Luego de escuchar la opinión de cientos de especialistas y a las mujeres de la Provincia de BsAs, comprendí que el aborto es una cuestión de salud pública. Estoy a favor de la vida y no quiero más muertes por abortos clandestinos, mi voto será a favor del #abortoLegal                                  \n",
       "18014   Debido a las preguntas sobre mi posición frente al #AbortoLegal y después de escuchar en los debates a especialistas del derecho y la salud y, sobre todo, a las mujeres quiero hacerles saber que tienen mi voto a favor de la ley. Que no es mío sino de ustedes. @CampAbortoLegal                          \n",
       "257450  Luego de mucho tiempo de reflexión y haber escuchado voces diversas, mi voto es a favor de la despenalización del aborto. \\n#Escuchar #QueElAbortoSeaLey #AbortoLegalOClandestino                                                                                                                             \n",
       "95133   Mi hija Rocio tiene 18 años. Con sus amigas va a ir el miércoles al Congreso para pedir #AbortoLegalYa. Será su primera marcha. Ella me ayudó a  ver que el cambio llegaba. Estoy orgulloso. Estas chicas son las que van a cambiar todo. Y es lo mejor que nos puede pasar.                                  \n",
       "190152  En los países donde el aborto es legal no ha aumentado la cantidad de abortos, pero sí se ha reducido notablemente la mortalidad materna. En Uruguay, con la legalización, descendió de 37% a 8% #AbortoLegalYa 💚 https://t.co/cczdmYofli                                                                     \n",
       "93807   Juntas @catherine_fulop @orisabatini y @actrices_arg te invitamos este MIÉRCOLES 13 desde el mediodía, en la Plaza del Congreso y en todas las Plazas del país, SEAMOS MUCHXS gritando NI UNA MENOS POR ABORTO CLANDESTINO! 💚\\n#VotenAbortoLegal \\n#13JAbortoLegal \\n#AbortoLegalYa https://t.co/jt7Jm8m2Hl   \n",
       "206507  Más allá del resultado de mañana, es nuestra tarea acordarnos muy bien quiénes votaron en contra nuestra y a contramano de la historia para no votarlos nunca más. #AbortoLegalYa                                                                                                                             \n",
       "116927  Me pregunto a donde estuvieron siempre lxs “salvemos las dos vidas” ?? Porque la @CampAbortoLegal  lleva 13 años militando para salvar mujeres. Y uds?? Mientras tanto que hicieron?? ABSOLUTAMENTE NADA XQ NUNCA QUISIERON SALVAR A NADIE #AbortoLegalYa 💪🏼💚                                                 \n",
       "45800   Este miércoles representantes de esta sociedad en el congreso voten entendiendo que NO es ABORTO SI o ABORTO NO. Es LEGAL o CLANDESTINO. Hagan historia.#AbortoLegalOClandestino  #abortolegalya                                                                                                              \n",
       "174187  Después de mucha reflexión comprendí que lo que se está discutiendo es el derecho de las mujeres y la salud pública, no cuestiones religiosas ni creencias personales. Por eso votaré a favor de la legalización de la interrupción voluntaria del embarazo. #QueSeaLey #AbortoLegal                          \n",
       "265981  Educación sexual para decidir, anticonceptivos para no abortar, aborto legal para no morir.  #QueSeaLey https://t.co/Ly67GCIiUt                                                                                                                                                                               \n",
       "75143   Ahora si 🤗 #AbortoLegalYa https://t.co/D9zZ3sEsQi                                                                                                                                                                                                                                                             \n",
       "173319  Lipovetzky: \"Les quiero anunciar que el dictamen de mayoría, que propone la legalización del aborto, ha obtenido 64 firmas y el de rechazo, 57 firmas\". Aplausos. Mañana, sesión a las 11. Para la historia. #AbortoLegal                                                                                     \n",
       "38626   #AbortoLegalOClandestino #AbortoLegalYa @Aruzzireal hermosaaaaa! @actrices_arg https://t.co/DR9KU0Qnat                                                                                                                                                                                                        \n",
       "23109   Mama ahora si se me ve en la foto. Querían noticias?!!! Acá las tienen #AbortoLegalYa 💚 https://t.co/srWhOp4C2Q                                                                                                                                                                                               \n",
       "208403  Anoche, Facultad de Derecho, UBA\\n#AbortoLegalYa https://t.co/oBgtmlCyUY                                                                                                                                                                                                                                      \n",
       "218337  Capaz ahí quedó más claro. Soy adoptada y estoy a favor del aborto legal, seguro y gratuito. #AbortoLegalOClandestino #AbortoLegalYa                                                                                                                                                                          \n",
       "\n",
       "        retweet_count  favorite_count posicion  \n",
       "97856   7898           28551           si       \n",
       "222627  7384           21406           si       \n",
       "267154  4666           15326           si       \n",
       "181593  1964           12898           si       \n",
       "18014   1223           7328            si       \n",
       "257450  1251           5467            si       \n",
       "95133   338            5258            si       \n",
       "190152  2731           5132            si       \n",
       "93807   1111           4872            si       \n",
       "206507  1384           4848            si       \n",
       "116927  1363           4452            si       \n",
       "45800   1630           4420            si       \n",
       "174187  746            4409            si       \n",
       "265981  749            3899            si       \n",
       "75143   1813           3898            si       \n",
       "173319  966            3813            si       \n",
       "38626   796            3811            si       \n",
       "23109   473            3698            si       \n",
       "208403  632            3568            si       \n",
       "218337  431            3512            si       "
      ]
     },
     "execution_count": 13,
     "metadata": {},
     "output_type": "execute_result"
    }
   ],
   "source": [
    "df.sort_values(by='favorite_count', ascending=False).head(20)"
   ]
  }
 ],
 "metadata": {
  "colab": {
   "default_view": {},
   "name": "1.0-análisis-tweets-mongo.ipynb",
   "provenance": [],
   "version": "0.3.2",
   "views": {}
  },
  "kernelspec": {
   "display_name": "tesissna",
   "language": "python",
   "name": "tesissna"
  },
  "language_info": {
   "codemirror_mode": {
    "name": "ipython",
    "version": 2
   },
   "file_extension": ".py",
   "mimetype": "text/x-python",
   "name": "python",
   "nbconvert_exporter": "python",
   "pygments_lexer": "ipython2",
   "version": "2.7.11+"
  }
 },
 "nbformat": 4,
 "nbformat_minor": 0
}
