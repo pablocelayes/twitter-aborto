{
 "cells": [
  {
   "cell_type": "code",
   "execution_count": 1,
   "metadata": {
    "colab": {
     "autoexec": {
      "startup": false,
      "wait_interval": 0
     }
    },
    "colab_type": "code",
    "collapsed": false,
    "id": "xILzsBEsKl-R"
   },
   "outputs": [],
   "source": [
    "import pandas as pd\n",
    "\n",
    "%matplotlib inline\n",
    "\n",
    "pd.set_option('display.max_colwidth', -1)\n",
    "pd.set_option('display.max_rows', 999)"
   ]
  },
  {
   "cell_type": "code",
   "execution_count": 2,
   "metadata": {
    "collapsed": false
   },
   "outputs": [
    {
     "name": "stdout",
     "output_type": "stream",
     "text": [
      "CPU times: user 3.91 s, sys: 218 ms, total: 4.12 s\n",
      "Wall time: 4.12 s\n"
     ]
    }
   ],
   "source": [
    "%%time\n",
    "tweets = pd.read_csv('../data/tweets.csv', encoding='utf8')"
   ]
  },
  {
   "cell_type": "code",
   "execution_count": 3,
   "metadata": {
    "colab": {
     "autoexec": {
      "startup": false,
      "wait_interval": 0
     }
    },
    "colab_type": "code",
    "collapsed": false,
    "id": "DQtQl17lpt0T"
   },
   "outputs": [
    {
     "name": "stdout",
     "output_type": "stream",
     "text": [
      "CPU times: user 6.71 s, sys: 10.8 ms, total: 6.72 s\n",
      "Wall time: 6.73 s\n"
     ]
    }
   ],
   "source": [
    "%%time\n",
    "tweets['created_at'] = pd.to_datetime(tweets['created_at'],\n",
    "                                      format=\"%a %b %d %H:%M:%S +0000 %Y\")"
   ]
  },
  {
   "cell_type": "code",
   "execution_count": 4,
   "metadata": {
    "colab": {
     "autoexec": {
      "startup": false,
      "wait_interval": 0
     }
    },
    "colab_type": "code",
    "collapsed": false,
    "id": "EmK7TrrAKl-o",
    "outputId": "7fc40844-a204-4231-9094-bb662899d724"
   },
   "outputs": [
    {
     "data": {
      "text/plain": [
       "261130"
      ]
     },
     "execution_count": 4,
     "metadata": {},
     "output_type": "execute_result"
    }
   ],
   "source": [
    "tweets_no = tweets[tweets.posicion == 'no']\n",
    "len(tweets_no)"
   ]
  },
  {
   "cell_type": "code",
   "execution_count": 5,
   "metadata": {
    "colab": {
     "autoexec": {
      "startup": false,
      "wait_interval": 0
     }
    },
    "colab_type": "code",
    "collapsed": false,
    "id": "zi18md5ipt0b",
    "outputId": "8af61964-7b92-4da7-8692-7b0d84ccf8b3"
   },
   "outputs": [
    {
     "data": {
      "text/plain": [
       "780455"
      ]
     },
     "execution_count": 5,
     "metadata": {},
     "output_type": "execute_result"
    }
   ],
   "source": [
    "tweets_si = tweets[tweets.posicion == 'si']\n",
    "len(tweets_si)"
   ]
  },
  {
   "cell_type": "code",
   "execution_count": 6,
   "metadata": {
    "collapsed": false
   },
   "outputs": [
    {
     "name": "stdout",
     "output_type": "stream",
     "text": [
      "CPU times: user 2.55 s, sys: 197 ms, total: 2.75 s\n",
      "Wall time: 2.59 s\n"
     ]
    },
    {
     "data": {
      "text/plain": [
       "created_at  posicion\n",
       "2018-06-07  no          15342 \n",
       "            si          22950 \n",
       "2018-06-08  no          15771 \n",
       "            si          30798 \n",
       "2018-06-09  no          8679  \n",
       "            si          31385 \n",
       "2018-06-10  no          31808 \n",
       "            si          50560 \n",
       "2018-06-11  no          41941 \n",
       "            si          59162 \n",
       "2018-06-12  no          20952 \n",
       "            si          107945\n",
       "2018-06-13  no          62182 \n",
       "            si          240296\n",
       "2018-06-14  no          43596 \n",
       "            si          136390\n",
       "2018-06-15  no          11103 \n",
       "            si          65805 \n",
       "2018-06-16  no          5543  \n",
       "            si          24073 \n",
       "2018-06-17  no          4213  \n",
       "            si          11091 \n",
       "Name: created_at, dtype: int64"
      ]
     },
     "execution_count": 6,
     "metadata": {},
     "output_type": "execute_result"
    }
   ],
   "source": [
    "%%time\n",
    "tweets.groupby([tweets.created_at.dt.date, tweets.posicion])['created_at'].count()"
   ]
  },
  {
   "cell_type": "markdown",
   "metadata": {
    "colab_type": "text",
    "id": "Ye2nz6o5pt0r"
   },
   "source": [
    "# Tweets más retuiteados"
   ]
  },
  {
   "cell_type": "code",
   "execution_count": 7,
   "metadata": {
    "collapsed": true
   },
   "outputs": [],
   "source": [
    "import re"
   ]
  },
  {
   "cell_type": "markdown",
   "metadata": {},
   "source": [
    "### Sí"
   ]
  },
  {
   "cell_type": "code",
   "execution_count": 8,
   "metadata": {
    "colab": {
     "autoexec": {
      "startup": false,
      "wait_interval": 0
     }
    },
    "colab_type": "code",
    "collapsed": false,
    "id": "dqgnygicpt0s"
   },
   "outputs": [],
   "source": [
    "df = tweets_si[['retweet_count', 'full_text']]\n",
    "# Removemos menciones en RTs\n",
    "df.full_text = df.full_text.apply(lambda s: re.sub(r\"^RT @\\w+: \", \"\", s))\n",
    "df = df.groupby('full_text').max()\n",
    "df = df.sort_values(by='retweet_count', ascending=False).head(40)"
   ]
  },
  {
   "cell_type": "markdown",
   "metadata": {},
   "source": [
    "### Para evitar duplicados, extendemos los tuits recortados"
   ]
  },
  {
   "cell_type": "code",
   "execution_count": 9,
   "metadata": {
    "collapsed": true
   },
   "outputs": [],
   "source": [
    "long_tweets = list(set(tweets[tweets.full_text.str.len() > 140].full_text.values))\n",
    "\n",
    "len(long_tweets)\n",
    "\n",
    "def extend_to_original(t):\n",
    "    if len(t) > 140 or t[-1] != u'…':\n",
    "        return t\n",
    "    for l in long_tweets:\n",
    "        if l.startswith(t[:-1]):\n",
    "            return l\n",
    "    return t"
   ]
  },
  {
   "cell_type": "code",
   "execution_count": 10,
   "metadata": {
    "collapsed": false
   },
   "outputs": [
    {
     "data": {
      "text/html": [
       "<div>\n",
       "<table border=\"1\" class=\"dataframe\">\n",
       "  <thead>\n",
       "    <tr style=\"text-align: right;\">\n",
       "      <th></th>\n",
       "      <th>retweet_count</th>\n",
       "    </tr>\n",
       "    <tr>\n",
       "      <th>full_text</th>\n",
       "      <th></th>\n",
       "    </tr>\n",
       "  </thead>\n",
       "  <tbody>\n",
       "    <tr>\n",
       "      <th>Argentina, 1984. Argentina, 2018.  Después de 3 décadas, ¡por fin Argentina hace historia! La cámara de diputados vota a favor de la despenalización del aborto.  💚💚💚💚💚💚💚💚  #AbortoSeraLey https://t.co/oqjv9XOQTb</th>\n",
       "      <td>43247</td>\n",
       "    </tr>\n",
       "    <tr>\n",
       "      <th>Se gritó como un gol de Messi. Emoción. #AbortoLegalYa https://t.co/mRQD3iKfW3</th>\n",
       "      <td>34647</td>\n",
       "    </tr>\n",
       "    <tr>\n",
       "      <th>Lo PERFECTO que habló Victoria Donda  #QueSeaLey #AbortoLegalYa #AbortoSesionHistorica https://t.co/Fcy5XFj9SG</th>\n",
       "      <td>25152</td>\n",
       "    </tr>\n",
       "    <tr>\n",
       "      <th>\"estoy a favor de las 2 vidas, por eso es que voto a favor de la despenalización del aborto\" MIREN LA CARA DE LA DE ABAJ…</th>\n",
       "      <td>22970</td>\n",
       "    </tr>\n",
       "    <tr>\n",
       "      <th>#AbortoLegalYa - sigan este hilo. NO SOY NEUTRAL. Mi nombre es Cecilia Ousset. Soy católica, médica, especialista en tocoginecología, madre de cuatros hijos. Trabajo actualmente en el Sistema de Salud privado, aunque me formé y trabajé en el Sistema Público en la Ciudad de Mza.</th>\n",
       "      <td>14641</td>\n",
       "    </tr>\n",
       "    <tr>\n",
       "      <th>Argentina tiene que avanzar! El aborto existió siempre! Basta de muertes en la clandestinidad! Un país con mejor educación sexual, y leyes que protejan a sus ciudadanos, va a ser un mejor país! No retrocedamos! Avancemos! #AbortolegalYA #AbortoLegalOClandestino</th>\n",
       "      <td>14448</td>\n",
       "    </tr>\n",
       "    <tr>\n",
       "      <th>En las calles, en lxs jóvenes, este debate ya está ganado💚 #ElFuturoYallego #AbortoSeraLey https://t.co/PAj9oJ7lnY</th>\n",
       "      <td>11764</td>\n",
       "    </tr>\n",
       "    <tr>\n",
       "      <th>Si no llegamos nosotras, lo van a conseguir ellas.  #AbortoLegalYa https://t.co/JqjJPkvyAK</th>\n",
       "      <td>11329</td>\n",
       "    </tr>\n",
       "    <tr>\n",
       "      <th>Se entiende? #AbortoLegalYa https://t.co/c8UOiE51VV</th>\n",
       "      <td>9587</td>\n",
       "    </tr>\n",
       "    <tr>\n",
       "      <th>En Argentina, un aborto clandestino puede llegar a salir entre $10.000 y $17.000. Las pastillas de misoprostol cuestan…</th>\n",
       "      <td>9376</td>\n",
       "    </tr>\n",
       "    <tr>\n",
       "      <th>Diputada PRO desbarató el relato progre sobre el aborto. Fue magistral. Piel de gallina. Les pido que escuchen a @dipnata…</th>\n",
       "      <td>9227</td>\n",
       "    </tr>\n",
       "    <tr>\n",
       "      <th>y ahora tomate el palo, ahora tomateló y ahora tomate el palo, ahora tomateló se nos mueren las pibas, legalicenló al patriarcado ni cabida, mi vida ahora decido yo  💚💪🏾 #AbortoLegalYa</th>\n",
       "      <td>8482</td>\n",
       "    </tr>\n",
       "    <tr>\n",
       "      <th>Asusta profundamente ver en manos de quienes estan nuestros derechos....Se escuchan cosas de un nivel de ignorancia que espanta! Sin fundamento ni foco en la verdadera discusión !  #SeraLey #abortolegalya</th>\n",
       "      <td>8391</td>\n",
       "    </tr>\n",
       "    <tr>\n",
       "      <th>En los países donde el aborto es legal no ha aumentado la cantidad de abortos, pero sí se ha reducido notablemente la mortalidad materna. #AbortoLegalYa #EsUnDerecho✊🏻💪🏻 #Argentina https://t.co/xn6JI2eVkd</th>\n",
       "      <td>7571</td>\n",
       "    </tr>\n",
       "    <tr>\n",
       "      <th>Argentina, 1984. Argentina, 2018.  Mismo objetivo, misma realidad, más de 3 décadas de diferencia, ARGENTINA HOY HICISTE…</th>\n",
       "      <td>7430</td>\n",
       "    </tr>\n",
       "    <tr>\n",
       "      <th>Eva de Dominici y un vestido que grita #AbortoLegalYa. 💚 https://t.co/fs3WVBzXOw</th>\n",
       "      <td>7254</td>\n",
       "    </tr>\n",
       "    <tr>\n",
       "      <th>Ni puta por coger Ni madre por deber Ni presa por abortar Ni muerta por intentar Pedimos #AbortoLegalYa</th>\n",
       "      <td>6920</td>\n",
       "    </tr>\n",
       "    <tr>\n",
       "      <th>Por vos mamá, y por todas las víctimas de un estado ausente juro que voy a luchar hasta que sea una realidad.  Ni una menos…</th>\n",
       "      <td>6716</td>\n",
       "    </tr>\n",
       "    <tr>\n",
       "      <th>A 5 años del #AbortoLegal en Uruguay los resultados son contundentes.  No hay mujeres muertas y la cantidad de interrupcione…</th>\n",
       "      <td>6603</td>\n",
       "    </tr>\n",
       "    <tr>\n",
       "      <th>Bueno, si realmente te interesa salvar vidas, ya sabés cómo posicionarte con respecto a la legalización del aborto. #Abor…</th>\n",
       "      <td>6393</td>\n",
       "    </tr>\n",
       "  </tbody>\n",
       "</table>\n",
       "</div>"
      ],
      "text/plain": [
       "                                                                                                                                                                                                                                                                                        retweet_count\n",
       "full_text                                                                                                                                                                                                                                                                                            \n",
       "Argentina, 1984. Argentina, 2018.  Después de 3 décadas, ¡por fin Argentina hace historia! La cámara de diputados vota a favor de la despenalización del aborto.  💚💚💚💚💚💚💚💚  #AbortoSeraLey https://t.co/oqjv9XOQTb                                                                      43247        \n",
       "Se gritó como un gol de Messi. Emoción. #AbortoLegalYa https://t.co/mRQD3iKfW3                                                                                                                                                                                                          34647        \n",
       "Lo PERFECTO que habló Victoria Donda  #QueSeaLey #AbortoLegalYa #AbortoSesionHistorica https://t.co/Fcy5XFj9SG                                                                                                                                                                          25152        \n",
       "\"estoy a favor de las 2 vidas, por eso es que voto a favor de la despenalización del aborto\" MIREN LA CARA DE LA DE ABAJ…                                                                                                                                                               22970        \n",
       "#AbortoLegalYa - sigan este hilo. NO SOY NEUTRAL. Mi nombre es Cecilia Ousset. Soy católica, médica, especialista en tocoginecología, madre de cuatros hijos. Trabajo actualmente en el Sistema de Salud privado, aunque me formé y trabajé en el Sistema Público en la Ciudad de Mza.  14641        \n",
       "Argentina tiene que avanzar! El aborto existió siempre! Basta de muertes en la clandestinidad! Un país con mejor educación sexual, y leyes que protejan a sus ciudadanos, va a ser un mejor país! No retrocedamos! Avancemos! #AbortolegalYA #AbortoLegalOClandestino                   14448        \n",
       "En las calles, en lxs jóvenes, este debate ya está ganado💚 #ElFuturoYallego #AbortoSeraLey https://t.co/PAj9oJ7lnY                                                                                                                                                                      11764        \n",
       "Si no llegamos nosotras, lo van a conseguir ellas.  #AbortoLegalYa https://t.co/JqjJPkvyAK                                                                                                                                                                                              11329        \n",
       "Se entiende? #AbortoLegalYa https://t.co/c8UOiE51VV                                                                                                                                                                                                                                     9587         \n",
       "En Argentina, un aborto clandestino puede llegar a salir entre $10.000 y $17.000. Las pastillas de misoprostol cuestan…                                                                                                                                                                 9376         \n",
       "Diputada PRO desbarató el relato progre sobre el aborto. Fue magistral. Piel de gallina. Les pido que escuchen a @dipnata…                                                                                                                                                              9227         \n",
       "y ahora tomate el palo, ahora tomateló y ahora tomate el palo, ahora tomateló se nos mueren las pibas, legalicenló al patriarcado ni cabida, mi vida ahora decido yo  💚💪🏾 #AbortoLegalYa                                                                                                8482         \n",
       "Asusta profundamente ver en manos de quienes estan nuestros derechos....Se escuchan cosas de un nivel de ignorancia que espanta! Sin fundamento ni foco en la verdadera discusión !  #SeraLey #abortolegalya                                                                            8391         \n",
       "En los países donde el aborto es legal no ha aumentado la cantidad de abortos, pero sí se ha reducido notablemente la mortalidad materna. #AbortoLegalYa #EsUnDerecho✊🏻💪🏻 #Argentina https://t.co/xn6JI2eVkd                                                                            7571         \n",
       "Argentina, 1984. Argentina, 2018.  Mismo objetivo, misma realidad, más de 3 décadas de diferencia, ARGENTINA HOY HICISTE…                                                                                                                                                               7430         \n",
       "Eva de Dominici y un vestido que grita #AbortoLegalYa. 💚 https://t.co/fs3WVBzXOw                                                                                                                                                                                                        7254         \n",
       "Ni puta por coger Ni madre por deber Ni presa por abortar Ni muerta por intentar Pedimos #AbortoLegalYa                                                                                                                                                                                 6920         \n",
       "Por vos mamá, y por todas las víctimas de un estado ausente juro que voy a luchar hasta que sea una realidad.  Ni una menos…                                                                                                                                                            6716         \n",
       "A 5 años del #AbortoLegal en Uruguay los resultados son contundentes.  No hay mujeres muertas y la cantidad de interrupcione…                                                                                                                                                           6603         \n",
       "Bueno, si realmente te interesa salvar vidas, ya sabés cómo posicionarte con respecto a la legalización del aborto. #Abor…                                                                                                                                                              6393         "
      ]
     },
     "execution_count": 10,
     "metadata": {},
     "output_type": "execute_result"
    }
   ],
   "source": [
    "df['full_text'] = df.index\n",
    "df.full_text = df.full_text.apply(extend_to_original)\n",
    "df = df.groupby('full_text').max()\n",
    "df.sort_values(by='retweet_count', ascending=False).head(20)"
   ]
  },
  {
   "cell_type": "markdown",
   "metadata": {},
   "source": [
    "### No"
   ]
  },
  {
   "cell_type": "code",
   "execution_count": 11,
   "metadata": {
    "collapsed": true
   },
   "outputs": [],
   "source": [
    "df = tweets_no[['retweet_count', 'full_text']]\n",
    "df.full_text = df.full_text.apply(lambda s: re.sub(r\"^RT @\\w+: \", \"\", s))\n",
    "df = df.groupby('full_text').max()\n",
    "df = df.sort_values(by='retweet_count', ascending=False).head(40)"
   ]
  },
  {
   "cell_type": "code",
   "execution_count": 12,
   "metadata": {
    "collapsed": false
   },
   "outputs": [
    {
     "data": {
      "text/html": [
       "<div>\n",
       "<table border=\"1\" class=\"dataframe\">\n",
       "  <thead>\n",
       "    <tr style=\"text-align: right;\">\n",
       "      <th></th>\n",
       "      <th>retweet_count</th>\n",
       "    </tr>\n",
       "    <tr>\n",
       "      <th>full_text</th>\n",
       "      <th></th>\n",
       "    </tr>\n",
       "  </thead>\n",
       "  <tbody>\n",
       "    <tr>\n",
       "      <th>#NoAlAborto En el aborto \"Seguro\", seguro alguien muere, \"Gratuito\" alguien lo paga y muy caro, \"Libre\" alguien no eligió, \"Leg…</th>\n",
       "      <td>5039</td>\n",
       "    </tr>\n",
       "    <tr>\n",
       "      <th>APLAUSOS DE PIE para éstos médicos tucumanos que grabaron éste spot contra el ABORTO.  \"Estudiamos para cuidar la vida de todos. Si estás pensando en nosotros para practicar abortos, NO CUENTEN CONMIGO\" 👏👏👏  RT que lo vean todos 🇦🇷  #SalvemosLas2Vidas #NoAlAborto #SiAlavida https://t.co/Vwd4etkRvt</th>\n",
       "      <td>2746</td>\n",
       "    </tr>\n",
       "    <tr>\n",
       "      <th>Venimos de un país donde CFK perseguía y hostigaba a todo aquel que hablase mal de ella.  MACRI, en cambio, invitó a los COCINEROS ARGENTINOS a Olivos, luego que ellos le cantaran MMLPQTP. #Cambiamos  Hoy salió el programa grabado. Pasen y vean👇   #PorElMundo #ArgentinaEsProvida https://t.co/2MU5yGA1oY</th>\n",
       "      <td>2459</td>\n",
       "    </tr>\n",
       "    <tr>\n",
       "      <th>¿Saben qué es lo mejor de los pro-vida? Que somos mayoría en Argentina sin recibir los millones de dólares que los abortistas han recibido de internacionales de la muerte, como Planned Parenthood, para llevar adelante su campaña mortífera #NoAlAbortoEnArgentina #SalvemosLas2Vidas</th>\n",
       "      <td>2235</td>\n",
       "    </tr>\n",
       "    <tr>\n",
       "      <th>¿Saben qué es lo mejor de los pro-vida? Que somos mayoría en Argentina sin recibir los millones de dólares que los abortistas han recibido de internacionales de la muerte, como Planned Parenthood, para llevar adelante su campaña mortífera. #ArgentinaEsProvida</th>\n",
       "      <td>2144</td>\n",
       "    </tr>\n",
       "    <tr>\n",
       "      <th>Con Uma decimos: SI A LA VIDA #CuidemosLasDosVidas ❤️❤️ https://t.co/mGfDwWIIWO</th>\n",
       "      <td>2009</td>\n",
       "    </tr>\n",
       "    <tr>\n",
       "      <th>Hasta el momento estos son los números: 127 diputados a favor de la vida, 123 a favor del genocidio, y todavía algunos que no se deciden entre la vida y el genocidio. #AbortoSesiónHistórica #SalvemosLas2Vidas</th>\n",
       "      <td>1976</td>\n",
       "    </tr>\n",
       "    <tr>\n",
       "      <th>TOMA DE COLEGIOS: Una causa justa por un pañuelo, $100 y una vianda.  -J:  \"Nos dan los pañuelos gratis, $ 100 y una vianda para la noche\"  - P: Quienes se los dan? - J: \"No puedo decirte\" - P: Ok, entiendo  #QueElAbortoSeaLey  #SalvemosLas2Vidas   #ArgentinaEsProvida https://t.co/sJq5QAKcOe</th>\n",
       "      <td>1961</td>\n",
       "    </tr>\n",
       "    <tr>\n",
       "      <th>Si el problema fueran las 30 mujeres q mueren anualmente en Argentina por abortos clandestinos, lo que debería pedirse son políticas públicas para desmantelar los centros abortistas clandestinos. El Estado bien podría reprimir este mal en lugar de permitirlo. #ArgentinaEsProvida</th>\n",
       "      <td>1901</td>\n",
       "    </tr>\n",
       "    <tr>\n",
       "      <th>La disyuntiva es la siguiente: podemos usar los recursos estatales para salvar las dos vidas, o podemos usarlos para contribuir al negocio del aborto instalando la cultura de la muerte en la Argentina. No hay tercera opción. #ArgentinaEsProvida</th>\n",
       "      <td>1804</td>\n",
       "    </tr>\n",
       "    <tr>\n",
       "      <th>En Cambiemos respetamos la diversidad de opiniones. Por eso, hoy, funcionarios y legisladores de este espacio político decimos juntos que estamos a favor de la vida desde el momento de la concepción. #SalvemosLas2Vidas https://t.co/QmAZ1tcjcw https://t.co/i6c2HiR3sX</th>\n",
       "      <td>1793</td>\n",
       "    </tr>\n",
       "    <tr>\n",
       "      <th>En Cambiemos respetamos la diversidad de opiniones. Por eso, hoy, funcionarios y legisladores de este espacio político decimos juntos que estamos a favor de la vida desde el momento de la concepción. #SalvemosLas2Vidas https://t.co/CNDuGnVHIP</th>\n",
       "      <td>1791</td>\n",
       "    </tr>\n",
       "    <tr>\n",
       "      <th>Ustedes son muy chicos y no se acuerdan pero los \" #ArgentinaEsProvida #SalvemosLas2Vidas \" antes vivían compartiendo esto.  #AbortoLegalOClandestino https://t.co/sfM33aHPd8</th>\n",
       "      <td>1616</td>\n",
       "    </tr>\n",
       "    <tr>\n",
       "      <th>Hay que ser mala persona para, pudiendo pedir por las dos vidas, pedir por el asesinato de seres humanos en gestación. #Ar…</th>\n",
       "      <td>1463</td>\n",
       "    </tr>\n",
       "    <tr>\n",
       "      <th>Hay que ser mala persona para, pudiendo pedir por las dos vidas, pedir por el asesinato de seres humanos en gestación. #ArgentinaEsProvida</th>\n",
       "      <td>1458</td>\n",
       "    </tr>\n",
       "    <tr>\n",
       "      <th>En España se legalizó el aborto en 1985. Hubo 411 abortos en 1986, 16.206 en 1987; 26.069 en 1988, 30.552 en 1989, 37.231 en 1990; en 2016 hubo 93.131. Y dicen que el aborto legal no aumenta la cantidad de abortos.  #PañueloVerde #Pañueludas #NoAlAborto #SalvemosLasDosVidas</th>\n",
       "      <td>1395</td>\n",
       "    </tr>\n",
       "    <tr>\n",
       "      <th>mmm vos decis #ArgentinaEsProvida https://t.co/i2qhwxfmi7</th>\n",
       "      <td>1337</td>\n",
       "    </tr>\n",
       "    <tr>\n",
       "      <th>LA BATALLA POR LAS DOS VIDAS TODAVIA NO TERMINO Y LA VAMOS A GANAR!!! MAS AMOR EN EL PEOR MOMENTO #CuidemosLasDosVidas https://t.co/2yruudrAJq</th>\n",
       "      <td>1170</td>\n",
       "    </tr>\n",
       "    <tr>\n",
       "      <th>Lo único seguro del aborto es que un ser humano por nacer se muere. El resto, pura ideología filicida. #AbortoLegalEsMuerte</th>\n",
       "      <td>1167</td>\n",
       "    </tr>\n",
       "    <tr>\n",
       "      <th>Los que tuitean #ElijamosLas2Vidas. https://t.co/mZGF0zUMr8</th>\n",
       "      <td>1154</td>\n",
       "    </tr>\n",
       "  </tbody>\n",
       "</table>\n",
       "</div>"
      ],
      "text/plain": [
       "                                                                                                                                                                                                                                                                                                                 retweet_count\n",
       "full_text                                                                                                                                                                                                                                                                                                                     \n",
       "#NoAlAborto En el aborto \"Seguro\", seguro alguien muere, \"Gratuito\" alguien lo paga y muy caro, \"Libre\" alguien no eligió, \"Leg…                                                                                                                                                                                 5039         \n",
       "APLAUSOS DE PIE para éstos médicos tucumanos que grabaron éste spot contra el ABORTO.  \"Estudiamos para cuidar la vida de todos. Si estás pensando en nosotros para practicar abortos, NO CUENTEN CONMIGO\" 👏👏👏  RT que lo vean todos 🇦🇷  #SalvemosLas2Vidas #NoAlAborto #SiAlavida https://t.co/Vwd4etkRvt       2746         \n",
       "Venimos de un país donde CFK perseguía y hostigaba a todo aquel que hablase mal de ella.  MACRI, en cambio, invitó a los COCINEROS ARGENTINOS a Olivos, luego que ellos le cantaran MMLPQTP. #Cambiamos  Hoy salió el programa grabado. Pasen y vean👇   #PorElMundo #ArgentinaEsProvida https://t.co/2MU5yGA1oY  2459         \n",
       "¿Saben qué es lo mejor de los pro-vida? Que somos mayoría en Argentina sin recibir los millones de dólares que los abortistas han recibido de internacionales de la muerte, como Planned Parenthood, para llevar adelante su campaña mortífera #NoAlAbortoEnArgentina #SalvemosLas2Vidas                         2235         \n",
       "¿Saben qué es lo mejor de los pro-vida? Que somos mayoría en Argentina sin recibir los millones de dólares que los abortistas han recibido de internacionales de la muerte, como Planned Parenthood, para llevar adelante su campaña mortífera. #ArgentinaEsProvida                                              2144         \n",
       "Con Uma decimos: SI A LA VIDA #CuidemosLasDosVidas ❤️❤️ https://t.co/mGfDwWIIWO                                                                                                                                                                                                                                  2009         \n",
       "Hasta el momento estos son los números: 127 diputados a favor de la vida, 123 a favor del genocidio, y todavía algunos que no se deciden entre la vida y el genocidio. #AbortoSesiónHistórica #SalvemosLas2Vidas                                                                                                 1976         \n",
       "TOMA DE COLEGIOS: Una causa justa por un pañuelo, $100 y una vianda.  -J:  \"Nos dan los pañuelos gratis, $ 100 y una vianda para la noche\"  - P: Quienes se los dan? - J: \"No puedo decirte\" - P: Ok, entiendo  #QueElAbortoSeaLey  #SalvemosLas2Vidas   #ArgentinaEsProvida https://t.co/sJq5QAKcOe             1961         \n",
       "Si el problema fueran las 30 mujeres q mueren anualmente en Argentina por abortos clandestinos, lo que debería pedirse son políticas públicas para desmantelar los centros abortistas clandestinos. El Estado bien podría reprimir este mal en lugar de permitirlo. #ArgentinaEsProvida                          1901         \n",
       "La disyuntiva es la siguiente: podemos usar los recursos estatales para salvar las dos vidas, o podemos usarlos para contribuir al negocio del aborto instalando la cultura de la muerte en la Argentina. No hay tercera opción. #ArgentinaEsProvida                                                             1804         \n",
       "En Cambiemos respetamos la diversidad de opiniones. Por eso, hoy, funcionarios y legisladores de este espacio político decimos juntos que estamos a favor de la vida desde el momento de la concepción. #SalvemosLas2Vidas https://t.co/QmAZ1tcjcw https://t.co/i6c2HiR3sX                                       1793         \n",
       "En Cambiemos respetamos la diversidad de opiniones. Por eso, hoy, funcionarios y legisladores de este espacio político decimos juntos que estamos a favor de la vida desde el momento de la concepción. #SalvemosLas2Vidas https://t.co/CNDuGnVHIP                                                               1791         \n",
       "Ustedes son muy chicos y no se acuerdan pero los \" #ArgentinaEsProvida #SalvemosLas2Vidas \" antes vivían compartiendo esto.  #AbortoLegalOClandestino https://t.co/sfM33aHPd8                                                                                                                                    1616         \n",
       "Hay que ser mala persona para, pudiendo pedir por las dos vidas, pedir por el asesinato de seres humanos en gestación. #Ar…                                                                                                                                                                                      1463         \n",
       "Hay que ser mala persona para, pudiendo pedir por las dos vidas, pedir por el asesinato de seres humanos en gestación. #ArgentinaEsProvida                                                                                                                                                                       1458         \n",
       "En España se legalizó el aborto en 1985. Hubo 411 abortos en 1986, 16.206 en 1987; 26.069 en 1988, 30.552 en 1989, 37.231 en 1990; en 2016 hubo 93.131. Y dicen que el aborto legal no aumenta la cantidad de abortos.  #PañueloVerde #Pañueludas #NoAlAborto #SalvemosLasDosVidas                               1395         \n",
       "mmm vos decis #ArgentinaEsProvida https://t.co/i2qhwxfmi7                                                                                                                                                                                                                                                        1337         \n",
       "LA BATALLA POR LAS DOS VIDAS TODAVIA NO TERMINO Y LA VAMOS A GANAR!!! MAS AMOR EN EL PEOR MOMENTO #CuidemosLasDosVidas https://t.co/2yruudrAJq                                                                                                                                                                   1170         \n",
       "Lo único seguro del aborto es que un ser humano por nacer se muere. El resto, pura ideología filicida. #AbortoLegalEsMuerte                                                                                                                                                                                      1167         \n",
       "Los que tuitean #ElijamosLas2Vidas. https://t.co/mZGF0zUMr8                                                                                                                                                                                                                                                      1154         "
      ]
     },
     "execution_count": 12,
     "metadata": {},
     "output_type": "execute_result"
    }
   ],
   "source": [
    "df['full_text'] = df.index\n",
    "df.full_text = df.full_text.apply(extend_to_original)\n",
    "df = df.groupby('full_text').max()\n",
    "df.sort_values(by='retweet_count', ascending=False).head(20)"
   ]
  }
 ],
 "metadata": {
  "colab": {
   "default_view": {},
   "name": "1.0-análisis-tweets-mongo.ipynb",
   "provenance": [],
   "version": "0.3.2",
   "views": {}
  },
  "kernelspec": {
   "display_name": "tesissna",
   "language": "python",
   "name": "tesissna"
  },
  "language_info": {
   "codemirror_mode": {
    "name": "ipython",
    "version": 2
   },
   "file_extension": ".py",
   "mimetype": "text/x-python",
   "name": "python",
   "nbconvert_exporter": "python",
   "pygments_lexer": "ipython2",
   "version": "2.7.11+"
  }
 },
 "nbformat": 4,
 "nbformat_minor": 0
}
