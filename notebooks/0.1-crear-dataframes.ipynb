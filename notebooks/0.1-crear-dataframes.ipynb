{
 "cells": [
  {
   "cell_type": "code",
   "execution_count": 1,
   "metadata": {
    "colab": {
     "autoexec": {
      "startup": false,
      "wait_interval": 0
     }
    },
    "colab_type": "code",
    "collapsed": false,
    "id": "xILzsBEsKl-R"
   },
   "outputs": [],
   "source": [
    "import json\n",
    "import pandas as pd"
   ]
  },
  {
   "cell_type": "code",
   "execution_count": 2,
   "metadata": {
    "collapsed": false
   },
   "outputs": [],
   "source": [
    "%matplotlib inline"
   ]
  },
  {
   "cell_type": "code",
   "execution_count": 3,
   "metadata": {
    "collapsed": false
   },
   "outputs": [],
   "source": [
    "pd.set_option('display.max_colwidth', -1)\n",
    "pd.set_option('display.max_rows', 999)"
   ]
  },
  {
   "cell_type": "code",
   "execution_count": 5,
   "metadata": {
    "collapsed": false
   },
   "outputs": [
    {
     "name": "stdout",
     "output_type": "stream",
     "text": [
      "CPU times: user 4min 45s, sys: 7.33 s, total: 4min 52s\n",
      "Wall time: 4min 53s\n"
     ]
    }
   ],
   "source": [
    "%%time\n",
    "from pymongo import MongoClient\n",
    "\n",
    "MONGO_HOST= 'mongodb://localhost/twitterdata'\n",
    "client = MongoClient(MONGO_HOST)\n",
    "db = client.twitterdata\n",
    "coll = db.abortolegal\n",
    "\n",
    "tweets = []\n",
    "users = {}\n",
    "cols_tweet = ['id', 'created_at', 'favorite_count', 'retweet_count', 'full_text',\n",
    "              'posicion', 'favorited', 'retweeted']\n",
    "cols_user = [\n",
    "             'screen_name',\n",
    "             'location',\n",
    "             'followers_count',\n",
    "             'statuses_count',\n",
    "             'description',\n",
    "             'friends_count',\n",
    "             'favourites_count',\n",
    "             'created_at',\n",
    "             'id',\n",
    "             'name',             \n",
    "             'verified']\n",
    "\n",
    "for t in coll.find():\n",
    "    tr = [t[c] for c in cols_tweet] + [t['user']['name'], t['user']['id']]\n",
    "    tr.append(t['retweeted_status']['id'] if t['retweeted'] else t['id'])\n",
    "    tweets.append(tr)\n",
    "    uid = t['user']['id'] \n",
    "    if uid not in users:\n",
    "        users[uid] = [t['user'][c] for c in cols_user]"
   ]
  },
  {
   "cell_type": "code",
   "execution_count": 6,
   "metadata": {
    "collapsed": false
   },
   "outputs": [
    {
     "name": "stdout",
     "output_type": "stream",
     "text": [
      "CPU times: user 2.27 s, sys: 60.1 ms, total: 2.33 s\n",
      "Wall time: 2.34 s\n"
     ]
    }
   ],
   "source": [
    "%%time\n",
    "tweets = pd.DataFrame(tweets, columns=cols_tweet + ['user_name', 'user_id', 'original_id'])"
   ]
  },
  {
   "cell_type": "code",
   "execution_count": 7,
   "metadata": {
    "collapsed": false
   },
   "outputs": [
    {
     "name": "stdout",
     "output_type": "stream",
     "text": [
      "CPU times: user 967 ms, sys: 11.9 ms, total: 978 ms\n",
      "Wall time: 977 ms\n"
     ]
    }
   ],
   "source": [
    "%%time\n",
    "users = pd.DataFrame(users.values(), columns=cols_user)"
   ]
  },
  {
   "cell_type": "markdown",
   "metadata": {},
   "source": [
    "## Guardar datos en formato accesible"
   ]
  },
  {
   "cell_type": "code",
   "execution_count": 8,
   "metadata": {
    "collapsed": false
   },
   "outputs": [
    {
     "data": {
      "text/html": [
       "<div>\n",
       "<table border=\"1\" class=\"dataframe\">\n",
       "  <thead>\n",
       "    <tr style=\"text-align: right;\">\n",
       "      <th></th>\n",
       "      <th>id</th>\n",
       "      <th>created_at</th>\n",
       "      <th>favorite_count</th>\n",
       "      <th>retweet_count</th>\n",
       "      <th>full_text</th>\n",
       "      <th>posicion</th>\n",
       "      <th>favorited</th>\n",
       "      <th>retweeted</th>\n",
       "      <th>user_name</th>\n",
       "      <th>user_id</th>\n",
       "      <th>original_id</th>\n",
       "    </tr>\n",
       "  </thead>\n",
       "  <tbody>\n",
       "    <tr>\n",
       "      <th>0</th>\n",
       "      <td>1005600427080110080</td>\n",
       "      <td>Sat Jun 09 23:59:59 +0000 2018</td>\n",
       "      <td>0</td>\n",
       "      <td>14</td>\n",
       "      <td>RT @PTSarg: Contamos con una ventaja que ellos no tienen: nuestra decisión, nuestra convicción y nuestra fuerza de lucha. #NoVotenContraLas…</td>\n",
       "      <td>si</td>\n",
       "      <td>False</td>\n",
       "      <td>False</td>\n",
       "      <td>Luciana HL</td>\n",
       "      <td>3130302891</td>\n",
       "      <td>1005600427080110080</td>\n",
       "    </tr>\n",
       "    <tr>\n",
       "      <th>1</th>\n",
       "      <td>1005600422772527105</td>\n",
       "      <td>Sat Jun 09 23:59:58 +0000 2018</td>\n",
       "      <td>0</td>\n",
       "      <td>59</td>\n",
       "      <td>RT @juanabalmedina: Excelentes reflexiones de una médica ginecóloga, católica practicante, que dice “Me repugna un país donde después de un…</td>\n",
       "      <td>si</td>\n",
       "      <td>False</td>\n",
       "      <td>False</td>\n",
       "      <td>Oriana Ribeiro</td>\n",
       "      <td>383350997</td>\n",
       "      <td>1005600422772527105</td>\n",
       "    </tr>\n",
       "    <tr>\n",
       "      <th>2</th>\n",
       "      <td>1005600422269243397</td>\n",
       "      <td>Sat Jun 09 23:59:58 +0000 2018</td>\n",
       "      <td>2</td>\n",
       "      <td>0</td>\n",
       "      <td>En el fondo lo que les jode es nuestra libertad #NoVotenContraLasMujeres #AbortoLegalYA</td>\n",
       "      <td>si</td>\n",
       "      <td>False</td>\n",
       "      <td>False</td>\n",
       "      <td>Luz Scarpati</td>\n",
       "      <td>2999619141</td>\n",
       "      <td>1005600422269243397</td>\n",
       "    </tr>\n",
       "    <tr>\n",
       "      <th>3</th>\n",
       "      <td>1005600416862801921</td>\n",
       "      <td>Sat Jun 09 23:59:57 +0000 2018</td>\n",
       "      <td>0</td>\n",
       "      <td>0</td>\n",
       "      <td>holla! me gustaría q ayuden a esta junta d firmas para el aborto seguro y gratuito, gracias \\n\\nAprueben la Ley de Aborto Seguro y Gratuito @DiputadosAR #abortolegalya #13JAbortoLegal https://t.co/aT9bKgrh9P via @ChangeorgAR</td>\n",
       "      <td>si</td>\n",
       "      <td>False</td>\n",
       "      <td>False</td>\n",
       "      <td>gigi not hadid</td>\n",
       "      <td>3668114236</td>\n",
       "      <td>1005600416862801921</td>\n",
       "    </tr>\n",
       "    <tr>\n",
       "      <th>4</th>\n",
       "      <td>1005600413838692352</td>\n",
       "      <td>Sat Jun 09 23:59:56 +0000 2018</td>\n",
       "      <td>0</td>\n",
       "      <td>308</td>\n",
       "      <td>RT @femialborto: A vos que decís #Salvemoslasdosvidas te pido que escuches esto, que intentes abrir la mente y entender las palabras, son m…</td>\n",
       "      <td>si</td>\n",
       "      <td>False</td>\n",
       "      <td>False</td>\n",
       "      <td>niña de tilcara🌰</td>\n",
       "      <td>828222093804371968</td>\n",
       "      <td>1005600413838692352</td>\n",
       "    </tr>\n",
       "  </tbody>\n",
       "</table>\n",
       "</div>"
      ],
      "text/plain": [
       "                    id                      created_at  favorite_count  \\\n",
       "0  1005600427080110080  Sat Jun 09 23:59:59 +0000 2018  0                \n",
       "1  1005600422772527105  Sat Jun 09 23:59:58 +0000 2018  0                \n",
       "2  1005600422269243397  Sat Jun 09 23:59:58 +0000 2018  2                \n",
       "3  1005600416862801921  Sat Jun 09 23:59:57 +0000 2018  0                \n",
       "4  1005600413838692352  Sat Jun 09 23:59:56 +0000 2018  0                \n",
       "\n",
       "   retweet_count  \\\n",
       "0  14              \n",
       "1  59              \n",
       "2  0               \n",
       "3  0               \n",
       "4  308             \n",
       "\n",
       "                                                                                                                                                                                                                          full_text  \\\n",
       "0  RT @PTSarg: Contamos con una ventaja que ellos no tienen: nuestra decisión, nuestra convicción y nuestra fuerza de lucha. #NoVotenContraLas…                                                                                       \n",
       "1  RT @juanabalmedina: Excelentes reflexiones de una médica ginecóloga, católica practicante, que dice “Me repugna un país donde después de un…                                                                                       \n",
       "2  En el fondo lo que les jode es nuestra libertad #NoVotenContraLasMujeres #AbortoLegalYA                                                                                                                                            \n",
       "3  holla! me gustaría q ayuden a esta junta d firmas para el aborto seguro y gratuito, gracias \\n\\nAprueben la Ley de Aborto Seguro y Gratuito @DiputadosAR #abortolegalya #13JAbortoLegal https://t.co/aT9bKgrh9P via @ChangeorgAR   \n",
       "4  RT @femialborto: A vos que decís #Salvemoslasdosvidas te pido que escuches esto, que intentes abrir la mente y entender las palabras, son m…                                                                                       \n",
       "\n",
       "  posicion favorited retweeted         user_name             user_id  \\\n",
       "0  si       False     False     Luciana HL        3130302891           \n",
       "1  si       False     False     Oriana Ribeiro    383350997            \n",
       "2  si       False     False     Luz Scarpati      2999619141           \n",
       "3  si       False     False     gigi not hadid    3668114236           \n",
       "4  si       False     False     niña de tilcara🌰  828222093804371968   \n",
       "\n",
       "           original_id  \n",
       "0  1005600427080110080  \n",
       "1  1005600422772527105  \n",
       "2  1005600422269243397  \n",
       "3  1005600416862801921  \n",
       "4  1005600413838692352  "
      ]
     },
     "execution_count": 8,
     "metadata": {},
     "output_type": "execute_result"
    }
   ],
   "source": [
    "tweets.head()"
   ]
  },
  {
   "cell_type": "code",
   "execution_count": 14,
   "metadata": {
    "collapsed": true
   },
   "outputs": [],
   "source": [
    "clean_text = lambda s: s.replace('\\n', ' ').replace('\\r', ' ')"
   ]
  },
  {
   "cell_type": "code",
   "execution_count": 15,
   "metadata": {
    "collapsed": true
   },
   "outputs": [],
   "source": [
    "tweets.full_text = tweets.full_text.apply(clean_text)"
   ]
  },
  {
   "cell_type": "code",
   "execution_count": 16,
   "metadata": {
    "collapsed": false
   },
   "outputs": [],
   "source": [
    "tweets.to_csv('../data/tweets.csv', index=False, encoding='utf8')"
   ]
  },
  {
   "cell_type": "code",
   "execution_count": 17,
   "metadata": {
    "collapsed": false
   },
   "outputs": [],
   "source": [
    "users.description = users.description.apply(clean_text)"
   ]
  },
  {
   "cell_type": "code",
   "execution_count": 18,
   "metadata": {
    "collapsed": false
   },
   "outputs": [
    {
     "data": {
      "text/html": [
       "<div>\n",
       "<table border=\"1\" class=\"dataframe\">\n",
       "  <thead>\n",
       "    <tr style=\"text-align: right;\">\n",
       "      <th></th>\n",
       "      <th>screen_name</th>\n",
       "      <th>location</th>\n",
       "      <th>followers_count</th>\n",
       "      <th>statuses_count</th>\n",
       "      <th>description</th>\n",
       "      <th>friends_count</th>\n",
       "      <th>favourites_count</th>\n",
       "      <th>created_at</th>\n",
       "      <th>id</th>\n",
       "      <th>name</th>\n",
       "      <th>verified</th>\n",
       "    </tr>\n",
       "  </thead>\n",
       "  <tbody>\n",
       "    <tr>\n",
       "      <th>0</th>\n",
       "      <td>beautyinarose</td>\n",
       "      <td>Escalada casi Banfield,Bs As</td>\n",
       "      <td>427</td>\n",
       "      <td>50613</td>\n",
       "      <td>Taladrista por adopción, pero ya en la sangre.Intento de comunicologa/guionista, probable quedar en intento. Terca idealista de nacimiento.</td>\n",
       "      <td>791</td>\n",
       "      <td>10199</td>\n",
       "      <td>Fri Jan 23 15:38:24 +0000 2009</td>\n",
       "      <td>19398656</td>\n",
       "      <td>Jules Caccaglio</td>\n",
       "      <td>False</td>\n",
       "    </tr>\n",
       "    <tr>\n",
       "      <th>1</th>\n",
       "      <td>DanielMort_</td>\n",
       "      <td>Celaya, Guanajuato</td>\n",
       "      <td>722</td>\n",
       "      <td>18823</td>\n",
       "      <td>~ Admin de @DeditosHelp &amp; Mod de @dedreviil ~ LVL 16 ~</td>\n",
       "      <td>178</td>\n",
       "      <td>13596</td>\n",
       "      <td>Fri Oct 28 03:17:25 +0000 2016</td>\n",
       "      <td>791841268879851520</td>\n",
       "      <td>DanielMort_ 🗡</td>\n",
       "      <td>False</td>\n",
       "    </tr>\n",
       "    <tr>\n",
       "      <th>2</th>\n",
       "      <td>VioleGallotti98</td>\n",
       "      <td>Córdoba, Argentina</td>\n",
       "      <td>1390</td>\n",
       "      <td>6576</td>\n",
       "      <td>Bariloche ‘15.</td>\n",
       "      <td>1107</td>\n",
       "      <td>13425</td>\n",
       "      <td>Fri Jul 25 18:07:57 +0000 2014</td>\n",
       "      <td>2680160258</td>\n",
       "      <td>νισlєтα gαllσттι</td>\n",
       "      <td>False</td>\n",
       "    </tr>\n",
       "    <tr>\n",
       "      <th>3</th>\n",
       "      <td>Lucia_Achigar</td>\n",
       "      <td>Montevideo</td>\n",
       "      <td>631</td>\n",
       "      <td>3130</td>\n",
       "      <td>Fan de las versalitas.</td>\n",
       "      <td>876</td>\n",
       "      <td>11690</td>\n",
       "      <td>Fri Mar 04 00:15:24 +0000 2011</td>\n",
       "      <td>260492029</td>\n",
       "      <td>Lucía Achigar 💚</td>\n",
       "      <td>False</td>\n",
       "    </tr>\n",
       "    <tr>\n",
       "      <th>4</th>\n",
       "      <td>florgimenezc</td>\n",
       "      <td>Córdoba, Argentina</td>\n",
       "      <td>1174</td>\n",
       "      <td>25947</td>\n",
       "      <td>Veintitrés del cuatro del noventa y seis. Derecho en la Universidad Nacional de Córdoba</td>\n",
       "      <td>360</td>\n",
       "      <td>9978</td>\n",
       "      <td>Tue May 08 16:59:21 +0000 2012</td>\n",
       "      <td>574707030</td>\n",
       "      <td>peto</td>\n",
       "      <td>False</td>\n",
       "    </tr>\n",
       "  </tbody>\n",
       "</table>\n",
       "</div>"
      ],
      "text/plain": [
       "       screen_name                      location  followers_count  \\\n",
       "0  beautyinarose    Escalada casi Banfield,Bs As  427               \n",
       "1  DanielMort_      Celaya, Guanajuato            722               \n",
       "2  VioleGallotti98  Córdoba, Argentina            1390              \n",
       "3  Lucia_Achigar    Montevideo                    631               \n",
       "4  florgimenezc     Córdoba, Argentina            1174              \n",
       "\n",
       "   statuses_count  \\\n",
       "0  50613            \n",
       "1  18823            \n",
       "2  6576             \n",
       "3  3130             \n",
       "4  25947            \n",
       "\n",
       "                                                                                                                                   description  \\\n",
       "0  Taladrista por adopción, pero ya en la sangre.Intento de comunicologa/guionista, probable quedar en intento. Terca idealista de nacimiento.   \n",
       "1  ~ Admin de @DeditosHelp & Mod de @dedreviil ~ LVL 16 ~                                                                                        \n",
       "2  Bariloche ‘15.                                                                                                                                \n",
       "3  Fan de las versalitas.                                                                                                                        \n",
       "4  Veintitrés del cuatro del noventa y seis. Derecho en la Universidad Nacional de Córdoba                                                       \n",
       "\n",
       "   friends_count  favourites_count                      created_at  \\\n",
       "0  791            10199             Fri Jan 23 15:38:24 +0000 2009   \n",
       "1  178            13596             Fri Oct 28 03:17:25 +0000 2016   \n",
       "2  1107           13425             Fri Jul 25 18:07:57 +0000 2014   \n",
       "3  876            11690             Fri Mar 04 00:15:24 +0000 2011   \n",
       "4  360            9978              Tue May 08 16:59:21 +0000 2012   \n",
       "\n",
       "                   id              name verified  \n",
       "0  19398656            Jules Caccaglio   False    \n",
       "1  791841268879851520  DanielMort_ 🗡     False    \n",
       "2  2680160258          νισlєтα gαllσттι  False    \n",
       "3  260492029           Lucía Achigar 💚   False    \n",
       "4  574707030           peto              False    "
      ]
     },
     "execution_count": 18,
     "metadata": {},
     "output_type": "execute_result"
    }
   ],
   "source": [
    "users.head()"
   ]
  },
  {
   "cell_type": "code",
   "execution_count": 19,
   "metadata": {
    "collapsed": true
   },
   "outputs": [],
   "source": [
    "users.to_csv('../data/users.csv', index=False, encoding='utf8')"
   ]
  }
 ],
 "metadata": {
  "colab": {
   "default_view": {},
   "name": "1.0-análisis-tweets-mongo.ipynb",
   "provenance": [],
   "version": "0.3.2",
   "views": {}
  },
  "kernelspec": {
   "display_name": "tesissna",
   "language": "python",
   "name": "tesissna"
  },
  "language_info": {
   "codemirror_mode": {
    "name": "ipython",
    "version": 2
   },
   "file_extension": ".py",
   "mimetype": "text/x-python",
   "name": "python",
   "nbconvert_exporter": "python",
   "pygments_lexer": "ipython2",
   "version": "2.7.11+"
  }
 },
 "nbformat": 4,
 "nbformat_minor": 0
}
