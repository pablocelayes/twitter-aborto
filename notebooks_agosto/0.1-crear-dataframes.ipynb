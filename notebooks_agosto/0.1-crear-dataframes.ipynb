{
 "cells": [
  {
   "cell_type": "code",
   "execution_count": 1,
   "metadata": {
    "colab": {
     "autoexec": {
      "startup": false,
      "wait_interval": 0
     }
    },
    "colab_type": "code",
    "collapsed": false,
    "id": "xILzsBEsKl-R"
   },
   "outputs": [],
   "source": [
    "import json\n",
    "import pandas as pd"
   ]
  },
  {
   "cell_type": "code",
   "execution_count": 2,
   "metadata": {
    "collapsed": false
   },
   "outputs": [],
   "source": [
    "%matplotlib inline"
   ]
  },
  {
   "cell_type": "code",
   "execution_count": 3,
   "metadata": {
    "collapsed": false
   },
   "outputs": [],
   "source": [
    "pd.set_option('display.max_colwidth', -1)\n",
    "pd.set_option('display.max_rows', 999)"
   ]
  },
  {
   "cell_type": "code",
   "execution_count": 4,
   "metadata": {
    "collapsed": false
   },
   "outputs": [
    {
     "name": "stdout",
     "output_type": "stream",
     "text": [
      "CPU times: user 23.8 s, sys: 809 ms, total: 24.6 s\n",
      "Wall time: 24.5 s\n"
     ]
    }
   ],
   "source": [
    "%%time\n",
    "from pymongo import MongoClient\n",
    "\n",
    "MONGO_HOST= 'mongodb://localhost/twitterdata'\n",
    "client = MongoClient(MONGO_HOST)\n",
    "db = client.twitterdata\n",
    "coll = db.abortolegal_agosto\n",
    "\n",
    "tweets = []\n",
    "users = {}\n",
    "cols_tweet = ['id', 'created_at', 'favorite_count', 'retweet_count', 'text', 'favorited', 'retweeted']\n",
    "cols_user = [\n",
    "             'screen_name',\n",
    "             'location',\n",
    "             'followers_count',\n",
    "             'statuses_count',\n",
    "             'description',\n",
    "             'friends_count',\n",
    "             'favourites_count',\n",
    "             'created_at',\n",
    "             'id',\n",
    "             'name',             \n",
    "             'verified']\n",
    "\n",
    "for t in coll.find():\n",
    "    tr = [t[c] for c in cols_tweet] + [t['user']['name'], t['user']['id']]\n",
    "    tr.append(t['retweeted_status']['id'] if t['retweeted'] else t['id'])\n",
    "    tweets.append(tr)\n",
    "    uid = t['user']['id'] \n",
    "    if uid not in users:\n",
    "        users[uid] = [t['user'][c] for c in cols_user]"
   ]
  },
  {
   "cell_type": "code",
   "execution_count": 5,
   "metadata": {
    "collapsed": false
   },
   "outputs": [
    {
     "name": "stdout",
     "output_type": "stream",
     "text": [
      "CPU times: user 240 ms, sys: 0 ns, total: 240 ms\n",
      "Wall time: 239 ms\n"
     ]
    }
   ],
   "source": [
    "%%time\n",
    "tweets = pd.DataFrame(tweets, columns=cols_tweet + ['user_name', 'user_id', 'original_id'])"
   ]
  },
  {
   "cell_type": "code",
   "execution_count": 6,
   "metadata": {
    "collapsed": false
   },
   "outputs": [
    {
     "name": "stdout",
     "output_type": "stream",
     "text": [
      "CPU times: user 195 ms, sys: 110 µs, total: 195 ms\n",
      "Wall time: 194 ms\n"
     ]
    }
   ],
   "source": [
    "%%time\n",
    "users = pd.DataFrame(users.values(), columns=cols_user)"
   ]
  },
  {
   "cell_type": "markdown",
   "metadata": {},
   "source": [
    "## Guardar datos en formato accesible"
   ]
  },
  {
   "cell_type": "code",
   "execution_count": 7,
   "metadata": {
    "collapsed": false
   },
   "outputs": [
    {
     "data": {
      "text/html": [
       "<div>\n",
       "<table border=\"1\" class=\"dataframe\">\n",
       "  <thead>\n",
       "    <tr style=\"text-align: right;\">\n",
       "      <th></th>\n",
       "      <th>id</th>\n",
       "      <th>created_at</th>\n",
       "      <th>favorite_count</th>\n",
       "      <th>retweet_count</th>\n",
       "      <th>text</th>\n",
       "      <th>favorited</th>\n",
       "      <th>retweeted</th>\n",
       "      <th>user_name</th>\n",
       "      <th>user_id</th>\n",
       "      <th>original_id</th>\n",
       "    </tr>\n",
       "  </thead>\n",
       "  <tbody>\n",
       "    <tr>\n",
       "      <th>0</th>\n",
       "      <td>1025181421961392135</td>\n",
       "      <td>Fri Aug 03 00:47:52 +0000 2018</td>\n",
       "      <td>0</td>\n",
       "      <td>0</td>\n",
       "      <td>🔹 5 Mitos sobre el aborto que todos debemos saber [VÍDEO] https://t.co/QVLOyPu7tu</td>\n",
       "      <td>False</td>\n",
       "      <td>False</td>\n",
       "      <td>Revista Digital</td>\n",
       "      <td>2208347839</td>\n",
       "      <td>1025181421961392135</td>\n",
       "    </tr>\n",
       "    <tr>\n",
       "      <th>1</th>\n",
       "      <td>1025181422347268097</td>\n",
       "      <td>Fri Aug 03 00:47:52 +0000 2018</td>\n",
       "      <td>0</td>\n",
       "      <td>0</td>\n",
       "      <td>RT @antotripelli: Mi mamá hablando con una amiga:\\nMadre: estas a favor del aborto?\\nAmiga: no, la verdad no. Una amiga se murio por abortar…</td>\n",
       "      <td>False</td>\n",
       "      <td>False</td>\n",
       "      <td>Mimi</td>\n",
       "      <td>878157175</td>\n",
       "      <td>1025181422347268097</td>\n",
       "    </tr>\n",
       "    <tr>\n",
       "      <th>2</th>\n",
       "      <td>1025181423639113728</td>\n",
       "      <td>Fri Aug 03 00:47:53 +0000 2018</td>\n",
       "      <td>0</td>\n",
       "      <td>0</td>\n",
       "      <td>El aborto que se perdió tu vieja jajajajajajajajajajjajajajaja</td>\n",
       "      <td>False</td>\n",
       "      <td>False</td>\n",
       "      <td>Delfina💚</td>\n",
       "      <td>984930721373573120</td>\n",
       "      <td>1025181423639113728</td>\n",
       "    </tr>\n",
       "    <tr>\n",
       "      <th>3</th>\n",
       "      <td>1025181426361221120</td>\n",
       "      <td>Fri Aug 03 00:47:53 +0000 2018</td>\n",
       "      <td>0</td>\n",
       "      <td>0</td>\n",
       "      <td>RT @cortalabochx: Si se legaliza el aborto los pro vida no van a votar a macri https://t.co/DNeGMRn2ZP</td>\n",
       "      <td>False</td>\n",
       "      <td>False</td>\n",
       "      <td>Mr. Drama👑</td>\n",
       "      <td>630668646</td>\n",
       "      <td>1025181426361221120</td>\n",
       "    </tr>\n",
       "    <tr>\n",
       "      <th>4</th>\n",
       "      <td>1025181426608730113</td>\n",
       "      <td>Fri Aug 03 00:47:53 +0000 2018</td>\n",
       "      <td>0</td>\n",
       "      <td>0</td>\n",
       "      <td>RT @AgustinLajeQuot: Ya saben que responder cuando te vienen con el mito de: “El aborto es la interrupción del embarazo”. https://t.co/vqPa…</td>\n",
       "      <td>False</td>\n",
       "      <td>False</td>\n",
       "      <td>Luigi Venegas</td>\n",
       "      <td>403723840</td>\n",
       "      <td>1025181426608730113</td>\n",
       "    </tr>\n",
       "  </tbody>\n",
       "</table>\n",
       "</div>"
      ],
      "text/plain": [
       "                    id                      created_at  favorite_count  \\\n",
       "0  1025181421961392135  Fri Aug 03 00:47:52 +0000 2018  0                \n",
       "1  1025181422347268097  Fri Aug 03 00:47:52 +0000 2018  0                \n",
       "2  1025181423639113728  Fri Aug 03 00:47:53 +0000 2018  0                \n",
       "3  1025181426361221120  Fri Aug 03 00:47:53 +0000 2018  0                \n",
       "4  1025181426608730113  Fri Aug 03 00:47:53 +0000 2018  0                \n",
       "\n",
       "   retweet_count  \\\n",
       "0  0               \n",
       "1  0               \n",
       "2  0               \n",
       "3  0               \n",
       "4  0               \n",
       "\n",
       "                                                                                                                                            text  \\\n",
       "0  🔹 5 Mitos sobre el aborto que todos debemos saber [VÍDEO] https://t.co/QVLOyPu7tu                                                               \n",
       "1  RT @antotripelli: Mi mamá hablando con una amiga:\\nMadre: estas a favor del aborto?\\nAmiga: no, la verdad no. Una amiga se murio por abortar…   \n",
       "2  El aborto que se perdió tu vieja jajajajajajajajajajjajajajaja                                                                                  \n",
       "3  RT @cortalabochx: Si se legaliza el aborto los pro vida no van a votar a macri https://t.co/DNeGMRn2ZP                                          \n",
       "4  RT @AgustinLajeQuot: Ya saben que responder cuando te vienen con el mito de: “El aborto es la interrupción del embarazo”. https://t.co/vqPa…    \n",
       "\n",
       "  favorited retweeted        user_name             user_id  \\\n",
       "0  False     False     Revista Digital  2208347839           \n",
       "1  False     False     Mimi             878157175            \n",
       "2  False     False     Delfina💚         984930721373573120   \n",
       "3  False     False     Mr. Drama👑       630668646            \n",
       "4  False     False     Luigi Venegas    403723840            \n",
       "\n",
       "           original_id  \n",
       "0  1025181421961392135  \n",
       "1  1025181422347268097  \n",
       "2  1025181423639113728  \n",
       "3  1025181426361221120  \n",
       "4  1025181426608730113  "
      ]
     },
     "execution_count": 7,
     "metadata": {},
     "output_type": "execute_result"
    }
   ],
   "source": [
    "tweets.head()"
   ]
  },
  {
   "cell_type": "code",
   "execution_count": 8,
   "metadata": {
    "collapsed": true
   },
   "outputs": [],
   "source": [
    "clean_text = lambda s: s.replace('\\n', ' ').replace('\\r', ' ')"
   ]
  },
  {
   "cell_type": "code",
   "execution_count": 11,
   "metadata": {
    "collapsed": false
   },
   "outputs": [],
   "source": [
    "tweets.text = tweets.text.apply(clean_text)"
   ]
  },
  {
   "cell_type": "code",
   "execution_count": 12,
   "metadata": {
    "collapsed": false
   },
   "outputs": [],
   "source": [
    "tweets.to_csv('../data/csvs/tweets_agosto.csv', index=False, encoding='utf8')"
   ]
  },
  {
   "cell_type": "code",
   "execution_count": 14,
   "metadata": {
    "collapsed": false
   },
   "outputs": [
    {
     "data": {
      "text/plain": [
       "Index([u'screen_name', u'location', u'followers_count', u'statuses_count',\n",
       "       u'description', u'friends_count', u'favourites_count', u'created_at',\n",
       "       u'id', u'name', u'verified'],\n",
       "      dtype='object')"
      ]
     },
     "execution_count": 14,
     "metadata": {},
     "output_type": "execute_result"
    }
   ],
   "source": [
    "users.columns"
   ]
  },
  {
   "cell_type": "code",
   "execution_count": 16,
   "metadata": {
    "collapsed": false
   },
   "outputs": [],
   "source": [
    "users.description = users.description.astype(unicode)"
   ]
  },
  {
   "cell_type": "code",
   "execution_count": 17,
   "metadata": {
    "collapsed": false
   },
   "outputs": [],
   "source": [
    "users.description = users.description.apply(clean_text)"
   ]
  },
  {
   "cell_type": "code",
   "execution_count": 18,
   "metadata": {
    "collapsed": false
   },
   "outputs": [
    {
     "data": {
      "text/html": [
       "<div>\n",
       "<table border=\"1\" class=\"dataframe\">\n",
       "  <thead>\n",
       "    <tr style=\"text-align: right;\">\n",
       "      <th></th>\n",
       "      <th>screen_name</th>\n",
       "      <th>location</th>\n",
       "      <th>followers_count</th>\n",
       "      <th>statuses_count</th>\n",
       "      <th>description</th>\n",
       "      <th>friends_count</th>\n",
       "      <th>favourites_count</th>\n",
       "      <th>created_at</th>\n",
       "      <th>id</th>\n",
       "      <th>name</th>\n",
       "      <th>verified</th>\n",
       "    </tr>\n",
       "  </thead>\n",
       "  <tbody>\n",
       "    <tr>\n",
       "      <th>0</th>\n",
       "      <td>abortoensenado</td>\n",
       "      <td>Buenos Aires, Argentina</td>\n",
       "      <td>619</td>\n",
       "      <td>1028</td>\n",
       "      <td>Sólo hay una cosa más grande que el amor a la libertad, y es el odio a quien te la quita 💚</td>\n",
       "      <td>1264</td>\n",
       "      <td>305</td>\n",
       "      <td>Wed Jun 20 17:12:43 +0000 2018</td>\n",
       "      <td>1009484201660383232</td>\n",
       "      <td>Aborto En El Senado</td>\n",
       "      <td>False</td>\n",
       "    </tr>\n",
       "    <tr>\n",
       "      <th>1</th>\n",
       "      <td>MotonetaZ</td>\n",
       "      <td>None</td>\n",
       "      <td>12</td>\n",
       "      <td>265</td>\n",
       "      <td>None</td>\n",
       "      <td>66</td>\n",
       "      <td>189</td>\n",
       "      <td>Thu Jun 15 20:07:02 +0000 2017</td>\n",
       "      <td>875444558745567232</td>\n",
       "      <td>Lucas</td>\n",
       "      <td>False</td>\n",
       "    </tr>\n",
       "    <tr>\n",
       "      <th>2</th>\n",
       "      <td>AliseValix0210</td>\n",
       "      <td>None</td>\n",
       "      <td>34</td>\n",
       "      <td>3218</td>\n",
       "      <td>ARMY ,❤ BTS ❤, HAY QUE AMARLOS A TODOS.</td>\n",
       "      <td>92</td>\n",
       "      <td>5076</td>\n",
       "      <td>Mon Nov 20 23:30:37 +0000 2017</td>\n",
       "      <td>932753072681517058</td>\n",
       "      <td>Alise</td>\n",
       "      <td>False</td>\n",
       "    </tr>\n",
       "    <tr>\n",
       "      <th>3</th>\n",
       "      <td>MilenaDiser27</td>\n",
       "      <td>None</td>\n",
       "      <td>28</td>\n",
       "      <td>106</td>\n",
       "      <td>artist👩🏻‍🎨🎸🎶 🖤AHS🖤 cuenta nueva🤙🏽🔥 snap👻: milenadiser👽</td>\n",
       "      <td>114</td>\n",
       "      <td>113</td>\n",
       "      <td>Mon Jun 11 01:46:56 +0000 2018</td>\n",
       "      <td>1005989729542733827</td>\n",
       "      <td>FREAK👽</td>\n",
       "      <td>False</td>\n",
       "    </tr>\n",
       "    <tr>\n",
       "      <th>4</th>\n",
       "      <td>ConLaGenteRos</td>\n",
       "      <td>Rosario, Argentina</td>\n",
       "      <td>2325</td>\n",
       "      <td>15230</td>\n",
       "      <td>Diario digital de Rosario</td>\n",
       "      <td>449</td>\n",
       "      <td>28</td>\n",
       "      <td>Sun Dec 10 21:06:45 +0000 2017</td>\n",
       "      <td>939964624711057412</td>\n",
       "      <td>Con La Gente</td>\n",
       "      <td>False</td>\n",
       "    </tr>\n",
       "  </tbody>\n",
       "</table>\n",
       "</div>"
      ],
      "text/plain": [
       "      screen_name                 location  followers_count  statuses_count  \\\n",
       "0  abortoensenado  Buenos Aires, Argentina  619              1028             \n",
       "1  MotonetaZ       None                     12               265              \n",
       "2  AliseValix0210  None                     34               3218             \n",
       "3  MilenaDiser27   None                     28               106              \n",
       "4  ConLaGenteRos   Rosario, Argentina       2325             15230            \n",
       "\n",
       "                                                                                  description  \\\n",
       "0  Sólo hay una cosa más grande que el amor a la libertad, y es el odio a quien te la quita 💚   \n",
       "1  None                                                                                         \n",
       "2  ARMY ,❤ BTS ❤, HAY QUE AMARLOS A TODOS.                                                      \n",
       "3  artist👩🏻‍🎨🎸🎶 🖤AHS🖤 cuenta nueva🤙🏽🔥 snap👻: milenadiser👽                                       \n",
       "4  Diario digital de Rosario                                                                    \n",
       "\n",
       "   friends_count  favourites_count                      created_at  \\\n",
       "0  1264           305               Wed Jun 20 17:12:43 +0000 2018   \n",
       "1  66             189               Thu Jun 15 20:07:02 +0000 2017   \n",
       "2  92             5076              Mon Nov 20 23:30:37 +0000 2017   \n",
       "3  114            113               Mon Jun 11 01:46:56 +0000 2018   \n",
       "4  449            28                Sun Dec 10 21:06:45 +0000 2017   \n",
       "\n",
       "                    id                 name verified  \n",
       "0  1009484201660383232  Aborto En El Senado  False    \n",
       "1  875444558745567232   Lucas                False    \n",
       "2  932753072681517058   Alise                False    \n",
       "3  1005989729542733827  FREAK👽               False    \n",
       "4  939964624711057412   Con La Gente         False    "
      ]
     },
     "execution_count": 18,
     "metadata": {},
     "output_type": "execute_result"
    }
   ],
   "source": [
    "users.head()"
   ]
  },
  {
   "cell_type": "code",
   "execution_count": 19,
   "metadata": {
    "collapsed": true
   },
   "outputs": [],
   "source": [
    "users.to_csv('../data/csvs/users_agosto.csv', index=False, encoding='utf8')"
   ]
  }
 ],
 "metadata": {
  "colab": {
   "default_view": {},
   "name": "1.0-análisis-tweets-mongo.ipynb",
   "provenance": [],
   "version": "0.3.2",
   "views": {}
  },
  "kernelspec": {
   "display_name": "tesissna",
   "language": "python",
   "name": "tesissna"
  },
  "language_info": {
   "codemirror_mode": {
    "name": "ipython",
    "version": 2
   },
   "file_extension": ".py",
   "mimetype": "text/x-python",
   "name": "python",
   "nbconvert_exporter": "python",
   "pygments_lexer": "ipython2",
   "version": "2.7.11+"
  }
 },
 "nbformat": 4,
 "nbformat_minor": 0
}
